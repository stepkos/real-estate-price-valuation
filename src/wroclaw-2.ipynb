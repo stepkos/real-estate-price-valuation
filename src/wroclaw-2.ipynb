{
  "nbformat": 4,
  "nbformat_minor": 0,
  "metadata": {
    "colab": {
      "provenance": []
    },
    "kernelspec": {
      "name": "python3",
      "display_name": "Python 3"
    },
    "language_info": {
      "name": "python"
    }
  },
  "cells": [
    {
      "cell_type": "code",
      "execution_count": null,
      "metadata": {
        "id": "GwySRmIIQpCK"
      },
      "outputs": [],
      "source": [
        "import pandas as pd\n",
        "import numpy as np\n",
        "import torch\n",
        "import matplotlib.pyplot as plt"
      ]
    },
    {
      "cell_type": "code",
      "source": [
        "data = pd.read_csv('apartments-wroclaw.csv', delimiter=';')"
      ],
      "metadata": {
        "id": "gtn5hP9fT3_k"
      },
      "execution_count": null,
      "outputs": []
    },
    {
      "cell_type": "code",
      "source": [
        "print(data)\n",
        "print(data.columns)"
      ],
      "metadata": {
        "colab": {
          "base_uri": "https://localhost:8080/"
        },
        "id": "cXhOsmagUBjg",
        "outputId": "142bd191-b966-4941-ed74-587e10aa148a"
      },
      "execution_count": null,
      "outputs": [
        {
          "output_type": "stream",
          "name": "stdout",
          "text": [
            "                                                  title  \\\n",
            "0              okazja apartament mieszkanie dwupokojowe   \n",
            "1     3 pokojowe mieszkanie na sprzedaż/ kredyt #naS...   \n",
            "2       Słoneczny apartament, miejsce postojowe w cenie   \n",
            "3      3-pokojowe mieszkanie 66m2 + balkon Bezpośrednio   \n",
            "4                   2-pokojowe mieszkanie 41m2 + balkon   \n",
            "...                                                 ...   \n",
            "9839              3-pokojowe mieszkanie w samym centrum   \n",
            "9840  Promocja l 2 pokoje na Lipie Piotrowskiej l Ba...   \n",
            "9841                Klimatyczne mieszkanie w kamienicy.   \n",
            "9842           Gotowe 3 pokoje z ogródkiem na Zakrzowie   \n",
            "9843            4-pokojowe mieszkanie 101m2 + 2 balkony   \n",
            "\n",
            "                                                address      price  rooms  \\\n",
            "0            Gajowice, Fabryczna, Wrocław, dolnośląskie   569000.0      2   \n",
            "1     ul. Eugeniusza Horbaczewskiego, Gądów, Fabrycz...   750000.0      3   \n",
            "2     ul. Babiego Lata, Krzyki, Krzyki, Wrocław, dol...   865000.0      2   \n",
            "3     ul. Orawska, Ołtaszyn, Krzyki, Wrocław, dolnoś...   747450.0      3   \n",
            "4      ul. Ślężna, Borek, Krzyki, Wrocław, dolnośląskie        NaN      2   \n",
            "...                                                 ...        ...    ...   \n",
            "9839  Plac Kościuszki, Przedmieście Świdnickie, Star...  1260861.0      3   \n",
            "9840  ul. Kominiarska, Widawa, Psie Pole, Wrocław, d...   497960.0      2   \n",
            "9841  ul. Henryka Sienkiewicza, Plac Grunwaldzki, Śr...   620000.0      2   \n",
            "9842  ul. Zatorska, Zawidawie, Psie Pole, Wrocław, d...   689000.0      3   \n",
            "9843  Długa/ul. Gnieźnieńska, Szczepin, Stare Miasto...  1699000.0      4   \n",
            "\n",
            "        area   floor  max_floor   rent energy_certificate  \\\n",
            "0      39.19       2        7.0  290.0                NaN   \n",
            "1      63.60       4       11.0  940.0                NaN   \n",
            "2      50.00       3        4.0  550.0                NaN   \n",
            "3      66.44       2        2.0    NaN                NaN   \n",
            "4      41.69       3        7.0    NaN                NaN   \n",
            "...      ...     ...        ...    ...                ...   \n",
            "9839   70.60       3        6.0  710.0                NaN   \n",
            "9840   42.20  parter        2.0  500.0                NaN   \n",
            "9841   60.00       1        4.0  200.0                NaN   \n",
            "9842   63.82  parter        4.0  640.0                NaN   \n",
            "9843  101.36       4        4.0    NaN                NaN   \n",
            "\n",
            "                  form_of_the_property finishing_condition  \\\n",
            "0                       pełna własność      do wykończenia   \n",
            "1     spółdzielcze wł. prawo do lokalu     do zamieszkania   \n",
            "2                       pełna własność     do zamieszkania   \n",
            "3                       pełna własność      do wykończenia   \n",
            "4                       pełna własność      do wykończenia   \n",
            "...                                ...                 ...   \n",
            "9839                    pełna własność      do wykończenia   \n",
            "9840                    pełna własność      do wykończenia   \n",
            "9841                    pełna własność     do zamieszkania   \n",
            "9842                    pełna własność      do wykończenia   \n",
            "9843                    pełna własność      do wykończenia   \n",
            "\n",
            "     balcony_garden_terrace             parking_place      heating     market  \\\n",
            "0                    balkon  garaż/miejsce parkingowe     miejskie     wtórny   \n",
            "1                    balkon                       NaN    kotłownia     wtórny   \n",
            "2                    balkon  garaż/miejsce parkingowe     miejskie     wtórny   \n",
            "3                    balkon  garaż/miejsce parkingowe          NaN        NaN   \n",
            "4                    balkon  garaż/miejsce parkingowe          NaN        NaN   \n",
            "...                     ...                       ...          ...        ...   \n",
            "9839                 balkon  garaż/miejsce parkingowe     miejskie  pierwotny   \n",
            "9840                 balkon                       NaN       gazowe  pierwotny   \n",
            "9841                 balkon                       NaN  elektryczne     wtórny   \n",
            "9842                ogródek  garaż/miejsce parkingowe     miejskie  pierwotny   \n",
            "9843                 balkon  garaż/miejsce parkingowe          NaN        NaN   \n",
            "\n",
            "        advertisement_type  year_of_construction type_of_development  \\\n",
            "0                 prywatny                2024.0     apartamentowiec   \n",
            "1     biuro nieruchomości                 1980.0                blok   \n",
            "2                 prywatny                2015.0                blok   \n",
            "3                      NaN                   NaN                 NaN   \n",
            "4                      NaN                   NaN                 NaN   \n",
            "...                    ...                   ...                 ...   \n",
            "9839  biuro nieruchomości                 2024.0     apartamentowiec   \n",
            "9840  biuro nieruchomości                 2025.0                blok   \n",
            "9841  biuro nieruchomości                 1910.0           kamienica   \n",
            "9842  biuro nieruchomości                 2023.0                blok   \n",
            "9843                   NaN                   NaN                 NaN   \n",
            "\n",
            "         windows is_elevator  \n",
            "0     plastikowe        True  \n",
            "1     plastikowe        True  \n",
            "2     plastikowe        True  \n",
            "3            NaN         NaN  \n",
            "4            NaN         NaN  \n",
            "...          ...         ...  \n",
            "9839   drewniane        True  \n",
            "9840  plastikowe       False  \n",
            "9841  plastikowe       False  \n",
            "9842  plastikowe        True  \n",
            "9843         NaN         NaN  \n",
            "\n",
            "[9844 rows x 20 columns]\n",
            "Index(['title', 'address', 'price', 'rooms', 'area', 'floor', 'max_floor',\n",
            "       'rent', 'energy_certificate', 'form_of_the_property',\n",
            "       'finishing_condition', 'balcony_garden_terrace', 'parking_place',\n",
            "       'heating', 'market', 'advertisement_type', 'year_of_construction',\n",
            "       'type_of_development', 'windows', 'is_elevator'],\n",
            "      dtype='object')\n"
          ]
        }
      ]
    },
    {
      "cell_type": "code",
      "source": [
        "for col in data.columns:\n",
        "  print(col,\n",
        "      pd.unique(data[col]))"
      ],
      "metadata": {
        "colab": {
          "base_uri": "https://localhost:8080/"
        },
        "id": "XjeXkKRtUmhm",
        "outputId": "5cb1be4f-0d05-43ec-aaf3-334648807a7e"
      },
      "execution_count": null,
      "outputs": [
        {
          "output_type": "stream",
          "name": "stdout",
          "text": [
            "title ['okazja apartament mieszkanie dwupokojowe'\n",
            " '3 pokojowe mieszkanie na sprzedaż/ kredyt #naStart'\n",
            " 'Słoneczny apartament, miejsce postojowe w cenie' ...\n",
            " '3-pokojowe mieszkanie w samym centrum'\n",
            " 'Klimatyczne mieszkanie w kamienicy.'\n",
            " 'Gotowe 3 pokoje z ogródkiem na Zakrzowie']\n",
            "address ['Gajowice, Fabryczna, Wrocław, dolnośląskie'\n",
            " 'ul. Eugeniusza Horbaczewskiego, Gądów, Fabryczna, Wrocław, dolnośląskie'\n",
            " 'ul. Babiego Lata, Krzyki, Krzyki, Wrocław, dolnośląskie' ...\n",
            " 'ul. Racławicka 100, Grabiszynek, Fabryczna, Wrocław, dolnośląskie'\n",
            " 'Strawińskiego, Jagodno, Krzyki, Wrocław, dolnośląskie'\n",
            " 'Al. Władysława Sikorskiego, Szczepin, Stare Miasto, Wrocław, dolnośląskie']\n",
            "price [ 569000.  750000.  865000. ... 1595712.  549670. 1260861.]\n",
            "rooms [ 2  3  4  5  1  6  8 10 11  7  9]\n",
            "area [39.19 63.6  50.   ... 88.8  61.16 83.11]\n",
            "floor ['2' '4' '3' '1' '5' '10' 'parter' '10+' '6' '9' '8' '0' '7' 'suterena'\n",
            " nan 'poddasze' '11']\n",
            "max_floor [ 7. 11.  4.  2. 10.  5.  1.  3.  8.  6. 17.  9. nan 16. 15. 18. 23. 48.\n",
            " 12. 14. 13. 22. 20. 24. 52. 19. 51. 28. 47.]\n",
            "rent [290. 940. 550.  nan 660. 285. 700. 650. 560. 450. 350. 500. 400. 950.\n",
            " 530. 420. 600. 800. 106. 942. 750.   1. 174. 900. 298. 411. 380. 570.\n",
            " 675. 740. 680. 370. 815. 499. 250. 890. 205. 695. 460. 620. 342. 690.\n",
            " 150. 730. 720. 280. 580. 200. 470. 630. 516. 590. 617. 480. 435. 391.\n",
            " 670. 850. 990. 240. 770. 310. 440. 710. 814. 999. 619. 490. 459. 383.\n",
            " 902. 520. 300. 947. 402. 840. 415. 430. 540. 820. 255. 739. 930. 260.\n",
            " 375. 546. 640. 230. 870. 120. 595. 220. 482. 390. 395. 190. 760. 767.\n",
            " 830. 465. 825. 834. 717. 635.   2. 474. 407. 970. 535. 775. 360. 384.\n",
            " 315. 510. 556. 715. 436. 130. 512.  80. 170. 270. 915. 714.  15. 716.\n",
            " 279. 725. 320. 880. 330. 610. 303. 210. 634. 722. 225. 618. 458. 133.\n",
            " 745. 663. 100. 471. 592. 699. 396. 749. 790. 913. 755. 860. 495. 810.\n",
            " 893. 613. 393. 110. 564. 672. 897. 854. 644. 533. 780. 478. 958. 960.\n",
            " 736. 912. 653. 329. 986. 235. 547. 648. 923. 489. 449. 496. 578. 624.\n",
            " 756. 855.  89. 388. 265. 335. 920. 488. 583. 524. 761. 552. 160. 505.\n",
            " 975. 603. 365. 306. 322. 366. 835. 611. 519. 405. 567. 622. 410. 295.\n",
            " 601. 899. 748. 498. 472. 678. 565. 721. 709. 616. 325. 437. 455. 408.\n",
            " 348. 426.  10. 352. 905. 762.  13. 933. 217. 198. 434. 832. 357. 432.\n",
            " 501. 486. 140. 969. 367. 574. 358. 768. 545. 656. 257. 980. 128. 175.\n",
            " 981. 233. 659. 278. 517. 586. 425. 555. 597. 557. 863. 852. 273.  95.\n",
            " 356. 515. 340. 625. 502. 345. 275. 784. 526. 445. 399.  25. 292.  12.\n",
            " 249. 477. 605. 582. 932. 392. 327. 528. 319. 538. 511. 536. 608. 726.\n",
            " 946. 925. 479. 876. 476. 549. 447. 723. 377.   3. 416. 362. 826. 684.\n",
            " 180. 668. 475. 743. 404. 746. 566. 895. 378. 685. 665. 646. 372. 758.\n",
            " 628. 406.   7. 281. 875. 712. 268. 633. 522. 602. 293. 487. 491.  50.\n",
            " 355. 446. 462. 286. 312. 682.  90.   5.  96. 639. 527. 412. 492. 433.\n",
            " 219.]\n",
            "energy_certificate [nan 'W trakcie realizacji / Zwolnione' 'B' 'A+' 'A' 'C' 'E' 'D' 'F' 'B-']\n",
            "form_of_the_property ['pełna własność' 'spółdzielcze wł. prawo do lokalu' nan\n",
            " 'użytkowanie wieczyste / dzierżawa' 'udział']\n",
            "finishing_condition ['do wykończenia' 'do zamieszkania' 'do remontu' nan]\n",
            "balcony_garden_terrace ['balkon' nan 'taras' 'ogródek' 'balkon, taras' 'taras, ogródek'\n",
            " 'balkon, ogródek, taras' 'taras, balkon' 'ogródek, taras'\n",
            " 'balkon, ogródek' 'taras, balkon, ogródek' 'balkon, taras, ogródek']\n",
            "parking_place ['garaż/miejsce parkingowe' nan]\n",
            "heating ['miejskie' 'kotłownia' nan 'gazowe' 'elektryczne' 'inne' 'piece kaflowe']\n",
            "market ['wtórny' nan 'pierwotny']\n",
            "advertisement_type ['prywatny' 'biuro nieruchomości ' nan 'deweloper']\n",
            "year_of_construction [2.0240e+03 1.9800e+03 2.0150e+03        nan 1.9020e+03 1.9680e+03\n",
            " 2.0080e+03 2.0190e+03 1.8900e+03 2.0200e+03 2.0220e+03 1.9300e+03\n",
            " 1.9750e+03 2.0160e+03 2.0250e+03 1.9600e+03 2.0140e+03 1.9100e+03\n",
            " 1.9000e+03 1.9350e+03 1.9980e+03 2.0010e+03 2.0180e+03 1.9250e+03\n",
            " 2.0230e+03 1.9730e+03 2.0120e+03 2.0000e+03 2.0130e+03 1.9040e+03\n",
            " 2.0260e+03 2.0020e+03 2.0110e+03 1.9110e+03 2.0170e+03 2.0030e+03\n",
            " 1.9850e+03 1.9700e+03 2.0100e+03 1.9630e+03 1.8890e+03 1.9650e+03\n",
            " 2.0050e+03 1.9050e+03 2.0210e+03 2.0040e+03 1.9710e+03 1.9870e+03\n",
            " 1.9620e+03 2.0060e+03 1.9920e+03 1.9880e+03 1.9200e+03 1.9840e+03\n",
            " 1.9760e+03 1.9570e+03 1.9370e+03 1.9070e+03 1.9930e+03 1.9500e+03\n",
            " 1.8880e+03 1.9780e+03 1.9900e+03 1.9670e+03 1.9060e+03 1.9640e+03\n",
            " 1.9910e+03 1.9810e+03 1.9890e+03 2.0090e+03 1.9950e+03 1.9970e+03\n",
            " 1.9820e+03 1.9720e+03 1.9590e+03 1.9150e+03 1.9990e+03 1.9830e+03\n",
            " 1.9390e+03 2.0070e+03 1.9610e+03 1.8990e+03 1.9360e+03 1.8800e+03\n",
            " 1.8980e+03 1.8960e+03 1.9940e+03 1.9400e+03 1.9690e+03 1.9790e+03\n",
            " 1.9320e+03 1.9330e+03 1.9380e+03 1.9230e+03 1.9010e+03 1.9860e+03\n",
            " 1.9800e+02 1.6000e+03 1.9450e+03 1.9740e+03 1.9560e+03 1.9140e+03\n",
            " 1.9090e+03 1.9030e+03 1.9660e+03 1.0000e+00 1.9270e+03 1.9290e+03\n",
            " 1.7920e+03 1.9260e+03 1.9120e+03 1.9770e+03 1.9340e+03 1.9580e+03\n",
            " 2.0233e+04 1.9550e+03 1.9080e+03 1.9460e+03 1.8700e+03 1.9180e+03\n",
            " 1.9960e+03 1.9520e+03 1.9210e+03 1.8870e+03 1.9540e+03 1.9280e+03\n",
            " 1.8850e+03 1.8770e+03 1.9470e+03 1.8940e+03 6.0000e+00 1.9160e+03\n",
            " 9.7000e+01 1.2410e+03 1.8650e+03 8.0000e+00 1.8200e+03 1.8730e+03\n",
            " 1.8830e+03 1.9190e+03 1.8930e+03]\n",
            "type_of_development ['apartamentowiec' 'blok' nan 'kamienica' 'dom wolnostojący' 'plomba'\n",
            " 'szeregowiec' 'wolnostojący' 'loft']\n",
            "windows ['plastikowe' nan 'drewniane' 'aluminiowe']\n",
            "is_elevator [True nan False]\n"
          ]
        }
      ]
    },
    {
      "cell_type": "code",
      "source": [
        "for col in data.columns:\n",
        "  print(col,\n",
        "      data[col].isna().sum())"
      ],
      "metadata": {
        "colab": {
          "base_uri": "https://localhost:8080/"
        },
        "id": "WC6dBnicXs7U",
        "outputId": "5eb1e7e8-90a5-4d37-82d0-66a0b6f1a15b"
      },
      "execution_count": null,
      "outputs": [
        {
          "output_type": "stream",
          "name": "stdout",
          "text": [
            "title 0\n",
            "address 0\n",
            "price 781\n",
            "rooms 0\n",
            "area 0\n",
            "floor 139\n",
            "max_floor 661\n",
            "rent 5294\n",
            "energy_certificate 9354\n",
            "form_of_the_property 1939\n",
            "finishing_condition 2907\n",
            "balcony_garden_terrace 2397\n",
            "parking_place 4228\n",
            "heating 2797\n",
            "market 1274\n",
            "advertisement_type 1274\n",
            "year_of_construction 2776\n",
            "type_of_development 2933\n",
            "windows 4243\n",
            "is_elevator 1274\n"
          ]
        }
      ]
    },
    {
      "cell_type": "code",
      "source": [
        "target_feature = 'price'\n",
        "features = ['rooms', 'area', 'floor', 'max_floor', 'market', 'year_of_construction', 'finishing_condition', 'is_elevator']\n",
        "features_and_target = features + [target_feature]"
      ],
      "metadata": {
        "id": "QaEbdZUrUQ0B"
      },
      "execution_count": null,
      "outputs": []
    },
    {
      "cell_type": "code",
      "source": [
        "data_cleaned = data[features_and_target]\n",
        "for feature in features_and_target:\n",
        "  data_cleaned = data_cleaned[~data_cleaned[feature].isna()]\n",
        "print(data_cleaned.shape)"
      ],
      "metadata": {
        "colab": {
          "base_uri": "https://localhost:8080/"
        },
        "id": "3BrrDcHJY_fB",
        "outputId": "4e358b6d-8de7-40f4-cdec-3b81c5012348"
      },
      "execution_count": null,
      "outputs": [
        {
          "output_type": "stream",
          "name": "stdout",
          "text": [
            "(4571, 9)\n"
          ]
        }
      ]
    },
    {
      "cell_type": "code",
      "source": [
        "data_cleaned = data_cleaned[data_cleaned['floor'] != 'suterena']\n",
        "data_cleaned = data_cleaned[data_cleaned['floor'] != 'poddasze']\n",
        "data_cleaned['floor'] = data_cleaned['floor'].replace('parter', '0')\n",
        "data_cleaned['floor'] = data_cleaned['floor'].replace('10+', '11')\n",
        "data_cleaned['floor'] = data_cleaned['floor'].astype(int)"
      ],
      "metadata": {
        "id": "A3PF-xETauU0"
      },
      "execution_count": null,
      "outputs": []
    },
    {
      "cell_type": "code",
      "source": [
        "for col in data_cleaned.columns:\n",
        "  print(col,\n",
        "      pd.unique(data_cleaned[col]))"
      ],
      "metadata": {
        "colab": {
          "base_uri": "https://localhost:8080/"
        },
        "id": "5Mn7Dn_VW5zM",
        "outputId": "33419712-0403-43f1-d3d2-ba7c808375d9"
      },
      "execution_count": null,
      "outputs": [
        {
          "output_type": "stream",
          "name": "stdout",
          "text": [
            "rooms [ 2  3  4  5  1  6 10  8  7  9]\n",
            "area [39.19 63.6  50.   ... 91.35 88.8  63.82]\n",
            "floor [ 2  4  3  0 11  1  5  6  9  7  8 10]\n",
            "max_floor [ 7. 11.  4.  5.  3.  6. 10.  2.  8.  9. 18.  1. 23. 48. 16. 17. 14. 12.\n",
            " 15. 13. 22. 20. 52. 19. 51. 28.]\n",
            "market ['wtórny' 'pierwotny']\n",
            "year_of_construction [2.0240e+03 1.9800e+03 2.0150e+03 1.9020e+03 1.9680e+03 2.0080e+03\n",
            " 2.0190e+03 1.8900e+03 2.0200e+03 2.0220e+03 1.9300e+03 2.0160e+03\n",
            " 2.0250e+03 1.9600e+03 2.0140e+03 1.9000e+03 2.0010e+03 1.9250e+03\n",
            " 2.0230e+03 1.9730e+03 2.0120e+03 2.0000e+03 2.0130e+03 1.9040e+03\n",
            " 2.0020e+03 2.0110e+03 1.9110e+03 2.0170e+03 2.0030e+03 1.9850e+03\n",
            " 2.0100e+03 1.9630e+03 1.8890e+03 1.9650e+03 2.0050e+03 1.9050e+03\n",
            " 2.0210e+03 2.0040e+03 1.9710e+03 1.9870e+03 1.9620e+03 1.9750e+03\n",
            " 2.0060e+03 1.9920e+03 1.9880e+03 1.9200e+03 2.0180e+03 1.9840e+03\n",
            " 1.9760e+03 1.9570e+03 1.9070e+03 1.9930e+03 1.9500e+03 1.8880e+03\n",
            " 1.9780e+03 1.9900e+03 1.9060e+03 1.9640e+03 1.9350e+03 1.9910e+03\n",
            " 1.9810e+03 1.9890e+03 2.0090e+03 1.9950e+03 1.9700e+03 2.0260e+03\n",
            " 1.9820e+03 1.9720e+03 1.9590e+03 1.9150e+03 1.9990e+03 1.9830e+03\n",
            " 1.9390e+03 1.9970e+03 2.0070e+03 1.9610e+03 1.9100e+03 1.8990e+03\n",
            " 1.9360e+03 1.8980e+03 1.8960e+03 1.9400e+03 1.9690e+03 1.9790e+03\n",
            " 1.9330e+03 1.9380e+03 1.9370e+03 1.9940e+03 1.9860e+03 1.9560e+03\n",
            " 1.9140e+03 1.9010e+03 1.9670e+03 1.9270e+03 1.9740e+03 1.9260e+03\n",
            " 1.9120e+03 1.9660e+03 1.9340e+03 1.9580e+03 1.9770e+03 2.0233e+04\n",
            " 1.9080e+03 1.9980e+03 1.9460e+03 1.9320e+03 1.6000e+03 1.9450e+03\n",
            " 1.9960e+03 1.9210e+03 1.9290e+03 1.8870e+03 1.9180e+03 1.8850e+03\n",
            " 1.8770e+03 1.9470e+03 6.0000e+00 1.9540e+03 1.2410e+03 8.0000e+00\n",
            " 1.9280e+03 1.8200e+03 1.8730e+03 1.8830e+03 1.9230e+03 1.9190e+03\n",
            " 1.9030e+03 1.9550e+03 1.8930e+03]\n",
            "finishing_condition ['do wykończenia' 'do zamieszkania' 'do remontu']\n",
            "is_elevator [True False]\n",
            "price [ 569000.  750000.  865000. ...  805800.  610721. 1260861.]\n"
          ]
        }
      ]
    },
    {
      "cell_type": "code",
      "source": [
        "print(data_cleaned.shape)"
      ],
      "metadata": {
        "colab": {
          "base_uri": "https://localhost:8080/"
        },
        "id": "wYWX_zfYYRUo",
        "outputId": "a772d3b0-9e1b-466c-8297-edc10c3dffa1"
      },
      "execution_count": null,
      "outputs": [
        {
          "output_type": "stream",
          "name": "stdout",
          "text": [
            "(4567, 9)\n"
          ]
        }
      ]
    },
    {
      "cell_type": "markdown",
      "source": [
        "change str to category numbers\n"
      ],
      "metadata": {
        "id": "Wq8zo5LWcTvt"
      }
    },
    {
      "cell_type": "code",
      "source": [
        "data_cleaned['market'] = data_cleaned['market'].astype('category')\n",
        "data_cleaned['finishing_condition'] = data_cleaned['finishing_condition'].astype('category')\n",
        "data_cleaned['is_elevator'] = data_cleaned['is_elevator'].astype('category')"
      ],
      "metadata": {
        "id": "GM0aDblObtLx"
      },
      "execution_count": null,
      "outputs": []
    },
    {
      "cell_type": "code",
      "source": [
        "data_cleaned['market'].cat.categories"
      ],
      "metadata": {
        "colab": {
          "base_uri": "https://localhost:8080/"
        },
        "id": "oH6U2wiudeCn",
        "outputId": "d9236d5b-43e1-4ced-967b-a5f8eb6e842a"
      },
      "execution_count": null,
      "outputs": [
        {
          "output_type": "execute_result",
          "data": {
            "text/plain": [
              "Index(['pierwotny', 'wtórny'], dtype='object')"
            ]
          },
          "metadata": {},
          "execution_count": 77
        }
      ]
    },
    {
      "cell_type": "code",
      "source": [
        "data_cat = data_cleaned.copy()\n",
        "data_cat['market'] = data_cat['market'].cat.codes\n",
        "data_cat['finishing_condition'] = data_cat['finishing_condition'].cat.codes\n",
        "data_cat['is_elevator'] = data_cat['is_elevator'].cat.codes"
      ],
      "metadata": {
        "id": "7HgdOI3Odrmh"
      },
      "execution_count": null,
      "outputs": []
    },
    {
      "cell_type": "code",
      "source": [
        "for col in data_cat.columns:\n",
        "  print(col,\n",
        "      pd.unique(data_cat[col]))"
      ],
      "metadata": {
        "colab": {
          "base_uri": "https://localhost:8080/"
        },
        "id": "LGJ5sx1NcsQg",
        "outputId": "62b53819-8ce4-4193-af89-e7f749d489cc"
      },
      "execution_count": null,
      "outputs": [
        {
          "output_type": "stream",
          "name": "stdout",
          "text": [
            "rooms [ 2  3  4  5  1  6 10  8  7  9]\n",
            "area [39.19 63.6  50.   ... 91.35 88.8  63.82]\n",
            "floor [ 2  4  3  0 11  1  5  6  9  7  8 10]\n",
            "max_floor [ 7. 11.  4.  5.  3.  6. 10.  2.  8.  9. 18.  1. 23. 48. 16. 17. 14. 12.\n",
            " 15. 13. 22. 20. 52. 19. 51. 28.]\n",
            "market [1 0]\n",
            "year_of_construction [2.0240e+03 1.9800e+03 2.0150e+03 1.9020e+03 1.9680e+03 2.0080e+03\n",
            " 2.0190e+03 1.8900e+03 2.0200e+03 2.0220e+03 1.9300e+03 2.0160e+03\n",
            " 2.0250e+03 1.9600e+03 2.0140e+03 1.9000e+03 2.0010e+03 1.9250e+03\n",
            " 2.0230e+03 1.9730e+03 2.0120e+03 2.0000e+03 2.0130e+03 1.9040e+03\n",
            " 2.0020e+03 2.0110e+03 1.9110e+03 2.0170e+03 2.0030e+03 1.9850e+03\n",
            " 2.0100e+03 1.9630e+03 1.8890e+03 1.9650e+03 2.0050e+03 1.9050e+03\n",
            " 2.0210e+03 2.0040e+03 1.9710e+03 1.9870e+03 1.9620e+03 1.9750e+03\n",
            " 2.0060e+03 1.9920e+03 1.9880e+03 1.9200e+03 2.0180e+03 1.9840e+03\n",
            " 1.9760e+03 1.9570e+03 1.9070e+03 1.9930e+03 1.9500e+03 1.8880e+03\n",
            " 1.9780e+03 1.9900e+03 1.9060e+03 1.9640e+03 1.9350e+03 1.9910e+03\n",
            " 1.9810e+03 1.9890e+03 2.0090e+03 1.9950e+03 1.9700e+03 2.0260e+03\n",
            " 1.9820e+03 1.9720e+03 1.9590e+03 1.9150e+03 1.9990e+03 1.9830e+03\n",
            " 1.9390e+03 1.9970e+03 2.0070e+03 1.9610e+03 1.9100e+03 1.8990e+03\n",
            " 1.9360e+03 1.8980e+03 1.8960e+03 1.9400e+03 1.9690e+03 1.9790e+03\n",
            " 1.9330e+03 1.9380e+03 1.9370e+03 1.9940e+03 1.9860e+03 1.9560e+03\n",
            " 1.9140e+03 1.9010e+03 1.9670e+03 1.9270e+03 1.9740e+03 1.9260e+03\n",
            " 1.9120e+03 1.9660e+03 1.9340e+03 1.9580e+03 1.9770e+03 2.0233e+04\n",
            " 1.9080e+03 1.9980e+03 1.9460e+03 1.9320e+03 1.6000e+03 1.9450e+03\n",
            " 1.9960e+03 1.9210e+03 1.9290e+03 1.8870e+03 1.9180e+03 1.8850e+03\n",
            " 1.8770e+03 1.9470e+03 6.0000e+00 1.9540e+03 1.2410e+03 8.0000e+00\n",
            " 1.9280e+03 1.8200e+03 1.8730e+03 1.8830e+03 1.9230e+03 1.9190e+03\n",
            " 1.9030e+03 1.9550e+03 1.8930e+03]\n",
            "finishing_condition [1 2 0]\n",
            "is_elevator [1 0]\n",
            "price [ 569000.  750000.  865000. ...  805800.  610721. 1260861.]\n"
          ]
        }
      ]
    },
    {
      "cell_type": "markdown",
      "source": [
        "one hot encoding"
      ],
      "metadata": {
        "id": "bkyhroM7eASW"
      }
    },
    {
      "cell_type": "code",
      "source": [
        "def price_hist(threshold=np.inf):\n",
        "  # Generate random data\n",
        "  data = data_cat['price'].to_numpy()\n",
        "  data = data[data<threshold]\n",
        "  # Create the histogram\n",
        "  plt.hist(data, bins=30, edgecolor='black')\n",
        "\n",
        "  # Add titles and labels\n",
        "  plt.title('Histogram of Random Data')\n",
        "  plt.xlabel('Value')\n",
        "  plt.ylabel('Frequency')\n",
        "\n",
        "  # Show the plot\n",
        "  plt.show()\n"
      ],
      "metadata": {
        "id": "Gfo67n7ReB-h"
      },
      "execution_count": null,
      "outputs": []
    },
    {
      "cell_type": "code",
      "source": [
        "price_hist()"
      ],
      "metadata": {
        "colab": {
          "base_uri": "https://localhost:8080/",
          "height": 472
        },
        "id": "T9Cn7l2EfobR",
        "outputId": "f4134a16-ae74-4d51-f388-072590f752fa"
      },
      "execution_count": null,
      "outputs": [
        {
          "output_type": "display_data",
          "data": {
            "text/plain": [
              "<Figure size 640x480 with 1 Axes>"
            ],
            "image/png": "[encoded data removed]"
          },
          "metadata": {}
        }
      ]
    },
    {
      "cell_type": "code",
      "source": [
        "price_hist(2000000)"
      ],
      "metadata": {
        "colab": {
          "base_uri": "https://localhost:8080/",
          "height": 472
        },
        "id": "qv0DzT85fqCN",
        "outputId": "38d76b52-b814-4839-a4aa-9e7d81b7aa88"
      },
      "execution_count": null,
      "outputs": [
        {
          "output_type": "display_data",
          "data": {
            "text/plain": [
              "<Figure size 640x480 with 1 Axes>"
            ],
            "image/png": "[encoded data removed]"
          },
          "metadata": {}
        }
      ]
    },
    {
      "cell_type": "markdown",
      "source": [
        "zrob wykres gdzie sa 3 histogramy przezroczyste nalozone na siebie, kazdy pokazuje rozklad ceny dla probek z kazdego typu wykonczenia"
      ],
      "metadata": {
        "id": "z5wDVgkfgGzu"
      }
    },
    {
      "cell_type": "code",
      "source": [
        "data_cat = data_cat[data_cat['price'] < 2000000]"
      ],
      "metadata": {
        "id": "pdmlWqIPggHL"
      },
      "execution_count": null,
      "outputs": []
    },
    {
      "cell_type": "code",
      "source": [
        "print(data_cat.shape)"
      ],
      "metadata": {
        "colab": {
          "base_uri": "https://localhost:8080/"
        },
        "id": "V5IHfz5agqSb",
        "outputId": "65d2b8a6-4319-4b50-e7b3-daae5d057a8e"
      },
      "execution_count": null,
      "outputs": [
        {
          "output_type": "stream",
          "name": "stdout",
          "text": [
            "(4510, 9)\n"
          ]
        }
      ]
    },
    {
      "cell_type": "code",
      "source": [
        "data_one_hot = pd.get_dummies(data_cat, columns=['finishing_condition'])\n",
        "print(data_one_hot)"
      ],
      "metadata": {
        "colab": {
          "base_uri": "https://localhost:8080/"
        },
        "id": "jOWhouAbhD0B",
        "outputId": "efcb685e-bfd8-4201-fc38-07953cbb6e33"
      },
      "execution_count": null,
      "outputs": [
        {
          "output_type": "stream",
          "name": "stdout",
          "text": [
            "      rooms   area  floor  max_floor  market  year_of_construction  \\\n",
            "0         2  39.19      2        7.0       1                2024.0   \n",
            "1         3  63.60      4       11.0       1                1980.0   \n",
            "2         2  50.00      3        4.0       1                2015.0   \n",
            "9         2  46.00      0        5.0       1                1902.0   \n",
            "10        3  46.03     11       11.0       1                1968.0   \n",
            "...     ...    ...    ...        ...     ...                   ...   \n",
            "9837      3  71.90      0        1.0       0                2023.0   \n",
            "9839      3  70.60      3        6.0       0                2024.0   \n",
            "9840      2  42.20      0        2.0       0                2025.0   \n",
            "9841      2  60.00      1        4.0       1                1910.0   \n",
            "9842      3  63.82      0        4.0       0                2023.0   \n",
            "\n",
            "      is_elevator      price  finishing_condition_0  finishing_condition_1  \\\n",
            "0               1   569000.0                  False                   True   \n",
            "1               1   750000.0                  False                  False   \n",
            "2               1   865000.0                  False                  False   \n",
            "9               0   513900.0                  False                  False   \n",
            "10              1   570000.0                   True                  False   \n",
            "...           ...        ...                    ...                    ...   \n",
            "9837            0   560000.0                  False                   True   \n",
            "9839            1  1260861.0                  False                   True   \n",
            "9840            0   497960.0                  False                   True   \n",
            "9841            0   620000.0                  False                  False   \n",
            "9842            1   689000.0                  False                   True   \n",
            "\n",
            "      finishing_condition_2  \n",
            "0                     False  \n",
            "1                      True  \n",
            "2                      True  \n",
            "9                      True  \n",
            "10                    False  \n",
            "...                     ...  \n",
            "9837                  False  \n",
            "9839                  False  \n",
            "9840                  False  \n",
            "9841                   True  \n",
            "9842                  False  \n",
            "\n",
            "[4510 rows x 11 columns]\n"
          ]
        }
      ]
    },
    {
      "cell_type": "code",
      "source": [
        "X = data_one_hot.drop(columns=[target_feature]).to_numpy().astype(np.float32)\n",
        "y = data_one_hot[target_feature].to_numpy().astype(np.float32)\n",
        "print(X[:10], y[:10], X.shape, y.shape)"
      ],
      "metadata": {
        "colab": {
          "base_uri": "https://localhost:8080/"
        },
        "id": "Iuamr5efhsd9",
        "outputId": "a3b3c96f-c11d-4e67-e217-d2b03891bc30"
      },
      "execution_count": null,
      "outputs": [
        {
          "output_type": "stream",
          "name": "stdout",
          "text": [
            "[[2.000e+00 3.919e+01 2.000e+00 7.000e+00 1.000e+00 2.024e+03 1.000e+00\n",
            "  0.000e+00 1.000e+00 0.000e+00]\n",
            " [3.000e+00 6.360e+01 4.000e+00 1.100e+01 1.000e+00 1.980e+03 1.000e+00\n",
            "  0.000e+00 0.000e+00 1.000e+00]\n",
            " [2.000e+00 5.000e+01 3.000e+00 4.000e+00 1.000e+00 2.015e+03 1.000e+00\n",
            "  0.000e+00 0.000e+00 1.000e+00]\n",
            " [2.000e+00 4.600e+01 0.000e+00 5.000e+00 1.000e+00 1.902e+03 0.000e+00\n",
            "  0.000e+00 0.000e+00 1.000e+00]\n",
            " [3.000e+00 4.603e+01 1.100e+01 1.100e+01 1.000e+00 1.968e+03 1.000e+00\n",
            "  1.000e+00 0.000e+00 0.000e+00]\n",
            " [4.000e+00 6.630e+01 1.000e+00 4.000e+00 1.000e+00 2.024e+03 1.000e+00\n",
            "  0.000e+00 1.000e+00 0.000e+00]\n",
            " [5.000e+00 7.613e+01 3.000e+00 3.000e+00 1.000e+00 2.008e+03 0.000e+00\n",
            "  0.000e+00 0.000e+00 1.000e+00]\n",
            " [2.000e+00 4.920e+01 1.000e+00 4.000e+00 1.000e+00 2.019e+03 1.000e+00\n",
            "  0.000e+00 0.000e+00 1.000e+00]\n",
            " [2.000e+00 4.800e+01 1.000e+00 4.000e+00 1.000e+00 1.890e+03 0.000e+00\n",
            "  0.000e+00 0.000e+00 1.000e+00]\n",
            " [2.000e+00 4.985e+01 1.000e+00 6.000e+00 0.000e+00 2.024e+03 1.000e+00\n",
            "  0.000e+00 1.000e+00 0.000e+00]] [569000. 750000. 865000. 513900. 570000. 699000. 699995. 639000. 950000.\n",
            " 727000.] (4510, 10) (4510,)\n"
          ]
        }
      ]
    },
    {
      "cell_type": "markdown",
      "source": [
        "podzial na zbiory"
      ],
      "metadata": {
        "id": "f1fjafhSiMYG"
      }
    },
    {
      "cell_type": "code",
      "source": [
        "from sklearn.model_selection import train_test_split\n",
        "\n"
      ],
      "metadata": {
        "id": "07xFIqYfiMLz"
      },
      "execution_count": null,
      "outputs": []
    },
    {
      "cell_type": "code",
      "source": [
        "X_train = np.random.rand(100, 3)\n",
        "y_train = np.random.randint(0, 2, 100)\n",
        "print(X_train, y_train)"
      ],
      "metadata": {
        "colab": {
          "base_uri": "https://localhost:8080/"
        },
        "id": "6wbDLTiBj9sC",
        "outputId": "ffc21fb7-7a82-4c75-91be-54a414d1b8a0"
      },
      "execution_count": null,
      "outputs": [
        {
          "output_type": "stream",
          "name": "stdout",
          "text": [
            "[[0.03611931 0.76302768 0.57743975]\n",
            " [0.49823315 0.61527986 0.41571536]\n",
            " [0.9220969  0.97871813 0.55427733]\n",
            " [0.92596141 0.22520607 0.16383601]\n",
            " [0.1449139  0.60369404 0.10159487]\n",
            " [0.06696207 0.77210773 0.8568953 ]\n",
            " [0.14377922 0.81460164 0.19813305]\n",
            " [0.71185374 0.74763011 0.74704418]\n",
            " [0.88493128 0.9190296  0.73751998]\n",
            " [0.71710327 0.62070196 0.00554705]\n",
            " [0.95820464 0.61197467 0.32410738]\n",
            " [0.6283727  0.9280093  0.42089069]\n",
            " [0.97416555 0.34203897 0.18063245]\n",
            " [0.67123342 0.08932371 0.00623485]\n",
            " [0.34661319 0.33148494 0.15181489]\n",
            " [0.49940452 0.51965021 0.68137689]\n",
            " [0.92669578 0.81889667 0.71940738]\n",
            " [0.72554715 0.84887448 0.3932911 ]\n",
            " [0.30235886 0.93685222 0.21694188]\n",
            " [0.90025207 0.21204325 0.52382381]\n",
            " [0.9049375  0.11697445 0.87953238]\n",
            " [0.55059803 0.83565576 0.58664072]\n",
            " [0.1407621  0.46207447 0.92751666]\n",
            " [0.79219144 0.90464906 0.43735736]\n",
            " [0.5069492  0.45824481 0.28840854]\n",
            " [0.44336081 0.989895   0.9951135 ]\n",
            " [0.34308429 0.18174806 0.38896863]\n",
            " [0.12737381 0.92017744 0.09549513]\n",
            " [0.96065751 0.74388701 0.25642019]\n",
            " [0.34253277 0.26592929 0.87300715]\n",
            " [0.6510962  0.94008909 0.00781374]\n",
            " [0.61800971 0.48990117 0.50080883]\n",
            " [0.70342218 0.85314556 0.19813658]\n",
            " [0.76565647 0.58477511 0.97866206]\n",
            " [0.35244734 0.60990968 0.82498264]\n",
            " [0.11098628 0.29635838 0.88859433]\n",
            " [0.52575136 0.6801697  0.66016787]\n",
            " [0.81670435 0.65077247 0.19220763]\n",
            " [0.83812413 0.52612449 0.60425046]\n",
            " [0.64969898 0.48736337 0.21740546]\n",
            " [0.88836087 0.26788429 0.25968722]\n",
            " [0.86422051 0.98450907 0.37935923]\n",
            " [0.83928689 0.26076461 0.05730031]\n",
            " [0.12442907 0.20199002 0.55785414]\n",
            " [0.21189996 0.94579286 0.54316726]\n",
            " [0.12842289 0.27675968 0.50086285]\n",
            " [0.35150871 0.66059026 0.53102696]\n",
            " [0.77764258 0.46919201 0.01014683]\n",
            " [0.82338894 0.56355581 0.09633614]\n",
            " [0.00565457 0.10514614 0.29602533]\n",
            " [0.76332621 0.65306061 0.72894473]\n",
            " [0.37554802 0.83484534 0.37394093]\n",
            " [0.38612415 0.54073906 0.89915741]\n",
            " [0.56169369 0.76708689 0.8307759 ]\n",
            " [0.37106995 0.96359766 0.95852673]\n",
            " [0.31580089 0.69728416 0.94380977]\n",
            " [0.48401033 0.36054928 0.46948396]\n",
            " [0.26060295 0.12331909 0.99278978]\n",
            " [0.2651463  0.78908275 0.0327787 ]\n",
            " [0.76394613 0.68514502 0.21099584]\n",
            " [0.90386485 0.22756685 0.26027439]\n",
            " [0.68764837 0.54507938 0.81699627]\n",
            " [0.15353015 0.79370117 0.17646657]\n",
            " [0.51615709 0.15529137 0.0337919 ]\n",
            " [0.28497205 0.83929723 0.52606488]\n",
            " [0.29693801 0.12879063 0.51023671]\n",
            " [0.02198237 0.35607066 0.11417964]\n",
            " [0.54860597 0.59125643 0.08036129]\n",
            " [0.84629836 0.50008831 0.93553573]\n",
            " [0.47528982 0.51484213 0.1532182 ]\n",
            " [0.45516517 0.08881183 0.15349203]\n",
            " [0.66652373 0.65341889 0.99078507]\n",
            " [0.56705042 0.18508839 0.09150439]\n",
            " [0.80764431 0.91627796 0.34247234]\n",
            " [0.52193446 0.00498157 0.16303309]\n",
            " [0.40017847 0.68802464 0.37208372]\n",
            " [0.87311051 0.73702521 0.37869582]\n",
            " [0.11158871 0.49497835 0.20314639]\n",
            " [0.17588607 0.60922193 0.78029088]\n",
            " [0.5384609  0.26560399 0.84196187]\n",
            " [0.04452885 0.09389001 0.10928373]\n",
            " [0.04697454 0.29410725 0.06116984]\n",
            " [0.01604329 0.00667028 0.41352566]\n",
            " [0.4863503  0.13736629 0.68247495]\n",
            " [0.27459945 0.59813878 0.94982875]\n",
            " [0.08411295 0.92109687 0.09806593]\n",
            " [0.51873862 0.2371259  0.03074459]\n",
            " [0.14808528 0.75633112 0.88116846]\n",
            " [0.35286044 0.30938474 0.05987036]\n",
            " [0.3840223  0.05283335 0.02870174]\n",
            " [0.3008419  0.82575071 0.02185008]\n",
            " [0.22732898 0.59509926 0.87693083]\n",
            " [0.96000266 0.30602735 0.69077173]\n",
            " [0.61268575 0.14407821 0.19252027]\n",
            " [0.49379985 0.00185012 0.83818648]\n",
            " [0.0819879  0.84508311 0.18992462]\n",
            " [0.53147495 0.21539582 0.39445191]\n",
            " [0.90212206 0.1454629  0.06751854]\n",
            " [0.61936167 0.88492452 0.30509265]\n",
            " [0.50862415 0.85894686 0.0779669 ]] [1 0 0 0 0 0 0 1 1 0 0 1 0 0 0 0 1 0 0 1 0 1 1 1 1 1 0 0 0 1 1 0 0 0 0 0 0\n",
            " 0 0 0 0 1 0 1 1 1 1 0 1 0 1 0 0 1 0 0 1 0 1 0 0 1 0 1 0 0 1 1 1 1 0 1 0 1\n",
            " 0 1 0 1 1 0 1 0 0 0 0 0 1 0 1 0 0 1 1 1 1 0 1 1 1 1]\n"
          ]
        }
      ]
    },
    {
      "cell_type": "code",
      "source": [
        "X_test = np.random.rand(20, 3)\n",
        "y_test = np.random.randint(0, 2, 20)\n",
        "print(X_test, y_test)"
      ],
      "metadata": {
        "colab": {
          "base_uri": "https://localhost:8080/"
        },
        "id": "5o9Ua3xRkn4O",
        "outputId": "0fc0c822-8240-4313-a12a-15c7c30b98e7"
      },
      "execution_count": null,
      "outputs": [
        {
          "output_type": "stream",
          "name": "stdout",
          "text": [
            "[[0.55453334 0.82703656 0.89998604]\n",
            " [0.06375849 0.37839881 0.59598344]\n",
            " [0.11060131 0.79089013 0.53555646]\n",
            " [0.97009522 0.79610121 0.24977559]\n",
            " [0.89921901 0.70432735 0.04551811]\n",
            " [0.2992673  0.09522398 0.69393421]\n",
            " [0.92670544 0.99526258 0.15123805]\n",
            " [0.87420222 0.51908875 0.03445325]\n",
            " [0.43197027 0.01338577 0.02434465]\n",
            " [0.47468316 0.57034396 0.69881358]\n",
            " [0.3458887  0.92756464 0.0324104 ]\n",
            " [0.36411579 0.56665511 0.95888522]\n",
            " [0.34597645 0.60985532 0.26754748]\n",
            " [0.80290872 0.32151725 0.77843758]\n",
            " [0.52049185 0.87162815 0.68372201]\n",
            " [0.30735392 0.28512612 0.27681448]\n",
            " [0.64300353 0.99143118 0.94416016]\n",
            " [0.26214645 0.89349457 0.28816451]\n",
            " [0.59349334 0.75239098 0.2090326 ]\n",
            " [0.0890077  0.67912056 0.84135912]] [0 0 0 0 0 0 1 0 0 0 0 0 1 1 0 0 0 1 1 0]\n"
          ]
        }
      ]
    },
    {
      "cell_type": "code",
      "source": [
        "from sklearn.svm import SVC\n",
        "\n",
        "param_grid = {'C': [0.001, 0.01, 0.1, 1, 10, 100], 'gamma': [0.001, 0.01, 0.1, 1, 10, 100]}"
      ],
      "metadata": {
        "id": "5HZAVnP-ky9l"
      },
      "execution_count": null,
      "outputs": []
    },
    {
      "cell_type": "code",
      "source": [
        "results = []\n",
        "for c in param_grid['C']:\n",
        "  for gamma in param_grid['gamma']:\n",
        "    svc = SVC(C=c, gamma=gamma)\n",
        "    svc.fit(X_train, y_train)\n",
        "    results.append((svc.score(X_test, y_test))\n",
        "    print(c, gamma)"
      ],
      "metadata": {
        "colab": {
          "base_uri": "https://localhost:8080/"
        },
        "id": "cvAGympgluZa",
        "outputId": "c7bb1cce-dbc1-4bc9-d3b1-680073ce37b7"
      },
      "execution_count": null,
      "outputs": [
        {
          "output_type": "stream",
          "name": "stdout",
          "text": [
            "0.001 0.001\n",
            "0.001 0.01\n",
            "0.001 0.1\n",
            "0.001 1\n",
            "0.001 10\n",
            "0.001 100\n",
            "0.01 0.001\n",
            "0.01 0.01\n",
            "0.01 0.1\n",
            "0.01 1\n",
            "0.01 10\n",
            "0.01 100\n",
            "0.1 0.001\n",
            "0.1 0.01\n",
            "0.1 0.1\n",
            "0.1 1\n",
            "0.1 10\n",
            "0.1 100\n",
            "1 0.001\n",
            "1 0.01\n",
            "1 0.1\n",
            "1 1\n",
            "1 10\n",
            "1 100\n",
            "10 0.001\n",
            "10 0.01\n",
            "10 0.1\n",
            "10 1\n",
            "10 10\n",
            "10 100\n",
            "100 0.001\n",
            "100 0.01\n",
            "100 0.1\n",
            "100 1\n",
            "100 10\n",
            "100 100\n"
          ]
        }
      ]
    },
    {
      "cell_type": "code",
      "source": [
        "svc = sorted(results, key=lambda x: x[0])[-1][1]"
      ],
      "metadata": {
        "id": "wS6wEJ44mTyq"
      },
      "execution_count": null,
      "outputs": []
    },
    {
      "cell_type": "code",
      "source": [
        "svc.score(X_test, y_test)"
      ],
      "metadata": {
        "colab": {
          "base_uri": "https://localhost:8080/"
        },
        "id": "UG1O12gnnV5F",
        "outputId": "48371566-d1e5-44cb-a558-d2b128bb8692"
      },
      "execution_count": null,
      "outputs": [
        {
          "output_type": "execute_result",
          "data": {
            "text/plain": [
              "0.55"
            ]
          },
          "metadata": {},
          "execution_count": 142
        }
      ]
    },
    {
      "cell_type": "code",
      "source": [
        "X_train, X_test, y_train, y_test = train_test_split(X, y, test_size=.1, random_state=420)\n",
        "X_train, X_val, y_train, y_val = train_test_split(X_train, y_train, test_size=.25, random_state=420)"
      ],
      "metadata": {
        "id": "n2vYD6yOoE31"
      },
      "execution_count": 288,
      "outputs": []
    },
    {
      "cell_type": "code",
      "source": [
        "print(X_train.shape, X_val.shape, X_test.shape)"
      ],
      "metadata": {
        "colab": {
          "base_uri": "https://localhost:8080/"
        },
        "id": "FTiE6FEZodKh",
        "outputId": "eb3bd578-67d8-48f6-cde0-8cd6e549bffd"
      },
      "execution_count": 289,
      "outputs": [
        {
          "output_type": "stream",
          "name": "stdout",
          "text": [
            "(3044, 10) (1015, 10) (451, 10)\n"
          ]
        }
      ]
    },
    {
      "cell_type": "markdown",
      "source": [
        "srednia 0 + odchylenie std 1\n"
      ],
      "metadata": {
        "id": "ZN_2nQO1pfwV"
      }
    },
    {
      "cell_type": "code",
      "source": [
        "from sklearn.preprocessing import StandardScaler\n",
        "\n",
        "X_scaler = StandardScaler()\n",
        "X_scaler.fit(X_train)\n",
        "\n",
        "X_train = X_scaler.transform(X_train)\n",
        "X_test = X_scaler.transform(X_test)\n",
        "X_val = X_scaler.transform(X_val)\n",
        "\n",
        "y_scaler = StandardScaler()\n",
        "y_scaler.fit(y_train.reshape(-1, 1))\n",
        "\n",
        "y_train = y_scaler.transform(y_train.reshape(-1, 1)).flatten()\n",
        "y_test = y_scaler.transform(y_test.reshape(-1, 1)).flatten()\n",
        "y_val = y_scaler.transform(y_val.reshape(-1, 1)).flatten()"
      ],
      "metadata": {
        "id": "59xzRonrpFkR"
      },
      "execution_count": 290,
      "outputs": []
    },
    {
      "cell_type": "code",
      "source": [
        "print(y_train)"
      ],
      "metadata": {
        "colab": {
          "base_uri": "https://localhost:8080/"
        },
        "id": "DyT6hECp3PKY",
        "outputId": "6dc50531-ead4-4170-8ce1-4add7371e2e7"
      },
      "execution_count": 291,
      "outputs": [
        {
          "output_type": "stream",
          "name": "stdout",
          "text": [
            "[-0.8226967  -0.5136102  -0.3274135  ...  0.75625134  0.04013881\n",
            "  0.1194586 ]\n"
          ]
        }
      ]
    },
    {
      "cell_type": "code",
      "source": [
        "from sklearn.linear_model import LinearRegression\n",
        "from sklearn.metrics import mean_squared_error\n",
        "\n",
        "model_lin = LinearRegression()\n",
        "model_lin.fit(X_train, y_train)\n",
        "\n",
        "print(mean_squared_error(model_lin.predict(X_train), y_train),\n",
        "      mean_squared_error(model_lin.predict(X_val), y_val))"
      ],
      "metadata": {
        "colab": {
          "base_uri": "https://localhost:8080/"
        },
        "id": "wx85yeIzqSyO",
        "outputId": "9f85488d-ec1a-4216-a237-283c895d2132"
      },
      "execution_count": 292,
      "outputs": [
        {
          "output_type": "stream",
          "name": "stdout",
          "text": [
            "0.41979876 0.3605412\n"
          ]
        }
      ]
    },
    {
      "cell_type": "code",
      "source": [
        "for i in range(10):\n",
        "  print( y_scaler.inverse_transform(y_val[i].reshape(-1, 1)).flatten(), y_scaler.inverse_transform(model_lin.predict(X_val[i].reshape(1, -1))[0].reshape(-1, 1)).flatten())"
      ],
      "metadata": {
        "colab": {
          "base_uri": "https://localhost:8080/"
        },
        "id": "eeWBpee8rq5Z",
        "outputId": "2cbaab7c-a1d4-4755-ac78-7722144982d6"
      },
      "execution_count": 293,
      "outputs": [
        {
          "output_type": "stream",
          "name": "stdout",
          "text": [
            "[646000.] [690483.2]\n",
            "[1018541.] [962713.56]\n",
            "[1379000.] [937863.7]\n",
            "[670000.] [804900.44]\n",
            "[589000.] [638070.]\n",
            "[580000.] [537515.44]\n",
            "[587094.] [722234.7]\n",
            "[775000.] [829184.6]\n",
            "[1050000.] [785879.94]\n",
            "[392058.] [459471.97]\n"
          ]
        }
      ]
    },
    {
      "cell_type": "code",
      "source": [
        "X_train_t = torch.tensor(X_train)\n",
        "X_test_t = torch.tensor(X_test)\n",
        "X_val_t = torch.tensor(X_val)\n",
        "\n",
        "y_train_t = torch.tensor(y_train)\n",
        "y_test_t = torch.tensor(y_test)\n",
        "y_val_t = torch.tensor(y_val)"
      ],
      "metadata": {
        "id": "j9671WTSs5Cs"
      },
      "execution_count": 294,
      "outputs": []
    },
    {
      "cell_type": "code",
      "source": [
        "class Net(torch.nn.Module):\n",
        "  def __init__(self):\n",
        "    super().__init__()\n",
        "    self.net = torch.nn.Sequential(\n",
        "        torch.nn.Linear(10, 128),\n",
        "        torch.nn.ReLU(),\n",
        "        torch.nn.Dropout(.3),\n",
        "        torch.nn.Linear(128, 1),\n",
        "      # torch.nn.Linear(10, 1)\n",
        "    )\n",
        "\n",
        "  def forward(self, x):\n",
        "    # x.shape = (n_samples, m_features)\n",
        "    return self.net(x)"
      ],
      "metadata": {
        "id": "xaaxLb_JtIqr"
      },
      "execution_count": 306,
      "outputs": []
    },
    {
      "cell_type": "code",
      "source": [
        "from torch.utils.data import TensorDataset, DataLoader\n",
        "train_dataset = TensorDataset(X_train_t, y_train_t)\n",
        "val_dataset = TensorDataset(X_val_t, y_val_t)\n",
        "\n",
        "batch_size = 16 # po ile probek na raz  ktorycg bedzeie srednia zamin beedizemy uczyc\n",
        "train_dataloader = DataLoader(train_dataset, batch_size=batch_size, shuffle=True) # iterator do robienia batchy\n",
        "val_dataloader = DataLoader(val_dataset, batch_size=batch_size, shuffle=True) # iterator do robienia batchy"
      ],
      "metadata": {
        "id": "LiniZSH9vKoy"
      },
      "execution_count": 299,
      "outputs": []
    },
    {
      "cell_type": "markdown",
      "source": [],
      "metadata": {
        "id": "GOjXs8LN6Y4L"
      }
    },
    {
      "cell_type": "code",
      "source": [
        "net = Net()\n",
        "lr = 0.001\n",
        "n_epochs = 100 # ile razy 1 datraset vbedfzeimy mielic przez siec\n",
        "\n",
        "optim = torch.optim.Adam(net.parameters(), lr=lr) # taki leopszy algorym go liczenia gradientu\n",
        "loss = torch.nn.MSELoss()\n",
        "\n",
        "for i in range(n_epochs):\n",
        "  loss_sum = 0\n",
        "  for inputs, targets in train_dataloader:\n",
        "\n",
        "    outputs = net(inputs)\n",
        "    l = loss(outputs.flatten(), targets)\n",
        "    l.backward()\n",
        "    with torch.no_grad():\n",
        "      loss_sum += l*inputs.shape[0]\n",
        "      # loss_sum += mean_squared_error(model_lin.predict(inputs), targets)\n",
        "      optim.step()\n",
        "      optim.zero_grad()\n",
        "\n",
        "  with torch.no_grad():\n",
        "    print(i, (loss_sum/X_train_t.shape[0]).item(), loss(net(X_val_t).flatten(), y_val_t).item())"
      ],
      "metadata": {
        "colab": {
          "base_uri": "https://localhost:8080/"
        },
        "id": "0SwtyB-2xDZX",
        "outputId": "d4b11b4f-9d35-42e9-d1a0-8ac4210cd8fa"
      },
      "execution_count": 307,
      "outputs": [
        {
          "output_type": "stream",
          "name": "stdout",
          "text": [
            "0 0.6057227253913879 0.4337868392467499\n",
            "1 0.46189889311790466 0.38057103753089905\n",
            "2 0.42500314116477966 0.36757412552833557\n",
            "3 0.42976927757263184 0.34364601969718933\n",
            "4 0.4202735722064972 0.35514500737190247\n",
            "5 0.39448586106300354 0.33838140964508057\n",
            "6 0.3786397874355316 0.33740633726119995\n",
            "7 0.38969025015830994 0.3332439064979553\n",
            "8 0.36310333013534546 0.33450156450271606\n",
            "9 0.3852970600128174 0.3376676142215729\n",
            "10 0.3646085560321808 0.3231315612792969\n",
            "11 0.3773272633552551 0.33678576350212097\n",
            "12 0.38589048385620117 0.33837413787841797\n",
            "13 0.3590697944164276 0.33884838223457336\n",
            "14 0.3460058867931366 0.33822759985923767\n",
            "15 0.3503689765930176 0.32875120639801025\n",
            "16 0.3582072854042053 0.31407371163368225\n",
            "17 0.37544775009155273 0.3158250153064728\n",
            "18 0.3615017235279083 0.3302956521511078\n",
            "19 0.3564656376838684 0.3298330307006836\n",
            "20 0.3523385226726532 0.31721043586730957\n",
            "21 0.35598236322402954 0.3273903727531433\n",
            "22 0.33990153670310974 0.3238590359687805\n",
            "23 0.3471604585647583 0.30704134702682495\n",
            "24 0.3439366817474365 0.32248303294181824\n",
            "25 0.33172672986984253 0.3139616549015045\n",
            "26 0.34417176246643066 0.32160794734954834\n",
            "27 0.3576419949531555 0.31902027130126953\n",
            "28 0.3393753468990326 0.31715381145477295\n",
            "29 0.33933040499687195 0.319732666015625\n",
            "30 0.33613547682762146 0.3095119893550873\n",
            "31 0.32743170857429504 0.32815736532211304\n",
            "32 0.3396109640598297 0.30386030673980713\n",
            "33 0.3324333429336548 0.3117663860321045\n",
            "34 0.3334471583366394 0.31399741768836975\n",
            "35 0.32583993673324585 0.3311937749385834\n",
            "36 0.3290697932243347 0.30846720933914185\n",
            "37 0.3456406593322754 0.3050118088722229\n",
            "38 0.3209768533706665 0.3088092505931854\n",
            "39 0.3241521120071411 0.3164145052433014\n",
            "40 0.33894607424736023 0.31390616297721863\n",
            "41 0.3410710394382477 0.31210851669311523\n",
            "42 0.31247466802597046 0.31347572803497314\n",
            "43 0.3172729015350342 0.3147825002670288\n",
            "44 0.32811036705970764 0.3084441125392914\n",
            "45 0.32348209619522095 0.3155178427696228\n",
            "46 0.3161769211292267 0.3093036413192749\n",
            "47 0.3144068419933319 0.30624204874038696\n",
            "48 0.32411596179008484 0.3070743680000305\n",
            "49 0.32205718755722046 0.30191126465797424\n",
            "50 0.35010024905204773 0.3168177604675293\n",
            "51 0.3093697130680084 0.31697994470596313\n",
            "52 0.3118687868118286 0.3142109811306\n",
            "53 0.3228476345539093 0.30591121315956116\n",
            "54 0.31539639830589294 0.3165700435638428\n",
            "55 0.3131990134716034 0.3032326400279999\n",
            "56 0.3099493384361267 0.3063700795173645\n",
            "57 0.3509010970592499 0.30790039896965027\n",
            "58 0.3238479495048523 0.3126358091831207\n",
            "59 0.3100787401199341 0.3084407448768616\n",
            "60 0.3075322210788727 0.32224926352500916\n",
            "61 0.3060699999332428 0.31298351287841797\n",
            "62 0.306571900844574 0.3161090314388275\n",
            "63 0.3140815198421478 0.31324419379234314\n",
            "64 0.3071897625923157 0.3208441436290741\n",
            "65 0.30509883165359497 0.3141247630119324\n",
            "66 0.3119553029537201 0.3172631561756134\n",
            "67 0.2933320999145508 0.31504905223846436\n",
            "68 0.3030244708061218 0.3058023154735565\n",
            "69 0.3412036597728729 0.30303651094436646\n",
            "70 0.3129941523075104 0.3105056881904602\n",
            "71 0.31945934891700745 0.299411803483963\n",
            "72 0.31534841656684875 0.30973413586616516\n",
            "73 0.3119986951351166 0.3154919445514679\n",
            "74 0.3091052770614624 0.318105548620224\n",
            "75 0.30441349744796753 0.33233749866485596\n",
            "76 0.32224640250205994 0.30493953824043274\n",
            "77 0.2978990972042084 0.3095492422580719\n",
            "78 0.30067476630210876 0.2881016135215759\n",
            "79 0.32967886328697205 0.30926626920700073\n",
            "80 0.30805784463882446 0.3008987009525299\n",
            "81 0.3043001890182495 0.3016587495803833\n",
            "82 0.31952178478240967 0.3160126507282257\n",
            "83 0.31013208627700806 0.3048676550388336\n",
            "84 0.30661866068840027 0.32744714617729187\n",
            "85 0.31103774905204773 0.2927757799625397\n",
            "86 0.3116863965988159 0.30145883560180664\n",
            "87 0.29839423298835754 0.2970786690711975\n",
            "88 0.3366541564464569 0.2993842363357544\n",
            "89 0.30066514015197754 0.31144845485687256\n",
            "90 0.3353233337402344 0.3133755326271057\n",
            "91 0.3047116696834564 0.3122343122959137\n",
            "92 0.308834433555603 0.30401551723480225\n",
            "93 0.3112821578979492 0.3128688335418701\n",
            "94 0.31694015860557556 0.321779727935791\n",
            "95 0.30351898074150085 0.31003135442733765\n",
            "96 0.30630725622177124 0.3050726354122162\n",
            "97 0.30845725536346436 0.29545390605926514\n",
            "98 0.2987986207008362 0.30405205488204956\n",
            "99 0.29401490092277527 0.3177805542945862\n"
          ]
        }
      ]
    },
    {
      "cell_type": "code",
      "source": [
        "net.eval()\n",
        "print(loss(net(X_val_t).flatten(), y_val_t).item())\n",
        "\n",
        "preds_unscaled = y_scaler.inverse_transform(net(X_val_t).detach().numpy()).flatten()\n",
        "\n",
        "targets_unscaled = y_scaler.inverse_transform(y_val_t.reshape(-1, 1)).flatten()\n",
        "print(mean_squared_error(preds_unscaled, targets_unscaled))"
      ],
      "metadata": {
        "colab": {
          "base_uri": "https://localhost:8080/"
        },
        "id": "tM2NZ66v7-QM",
        "outputId": "4a271189-0bc7-45d0-e125-08d55ee92465"
      },
      "execution_count": 320,
      "outputs": [
        {
          "output_type": "stream",
          "name": "stdout",
          "text": [
            "0.28176000714302063\n",
            "20317738223.943\n"
          ]
        }
      ]
    },
    {
      "cell_type": "code",
      "source": [
        "print(preds_unscaled, tarets_unscaled)"
      ],
      "metadata": {
        "colab": {
          "base_uri": "https://localhost:8080/"
        },
        "id": "J8eywbOC9C5z",
        "outputId": "43ee58c4-3d56-465f-f871-db7a4767773a"
      },
      "execution_count": 317,
      "outputs": [
        {
          "output_type": "stream",
          "name": "stdout",
          "text": [
            "[ 705606.44  919006.1  1074306.4  ...  920968.4   755048.9   331356.34] [ 645999.99680475 1018541.00438672 1379000.04526834 ...  795987.00080573\n",
            "  669999.99852257  289999.98732959]\n"
          ]
        }
      ]
    },
    {
      "cell_type": "code",
      "source": [
        "print(np.mean(np.abs(preds_unscaled- targets_unscaled)))\n",
        "print(np.mean(np.abs( y_scaler.inverse_transform(model_lin.predict(X_val_t).reshape(-1, 1)).flatten() - targets_unscaled)))"
      ],
      "metadata": {
        "colab": {
          "base_uri": "https://localhost:8080/"
        },
        "id": "Pq71VCFg9tVi",
        "outputId": "b4854da3-b30b-4d8c-bbf6-10ad05e862f1"
      },
      "execution_count": 327,
      "outputs": [
        {
          "output_type": "stream",
          "name": "stdout",
          "text": [
            "98894.20359307594\n",
            "110077.48025370696\n"
          ]
        }
      ]
    }
  ]
}