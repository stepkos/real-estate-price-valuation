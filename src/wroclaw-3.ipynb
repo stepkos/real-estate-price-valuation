{
  "cells": [
    {
      "cell_type": "code",
      "execution_count": 2,
      "metadata": {
        "id": "GwySRmIIQpCK"
      },
      "outputs": [],
      "source": [
        "import pandas as pd\n",
        "import numpy as np\n",
        "import torch\n",
        "import matplotlib.pyplot as plt"
      ]
    },
    {
      "cell_type": "code",
      "execution_count": 3,
      "metadata": {
        "id": "gtn5hP9fT3_k"
      },
      "outputs": [],
      "source": [
        "data = pd.read_csv('apartments-wroclaw.csv', delimiter=';')"
      ]
    },
    {
      "cell_type": "code",
      "execution_count": 4,
      "metadata": {
        "colab": {
          "base_uri": "https://localhost:8080/"
        },
        "id": "cXhOsmagUBjg",
        "outputId": "142bd191-b966-4941-ed74-587e10aa148a"
      },
      "outputs": [
        {
          "name": "stdout",
          "output_type": "stream",
          "text": [
            "                                                  title  \\\n",
            "0              okazja apartament mieszkanie dwupokojowe   \n",
            "1     3 pokojowe mieszkanie na sprzedaż/ kredyt #naS...   \n",
            "2       Słoneczny apartament, miejsce postojowe w cenie   \n",
            "3      3-pokojowe mieszkanie 66m2 + balkon Bezpośrednio   \n",
            "4                   2-pokojowe mieszkanie 41m2 + balkon   \n",
            "...                                                 ...   \n",
            "9839              3-pokojowe mieszkanie w samym centrum   \n",
            "9840  Promocja l 2 pokoje na Lipie Piotrowskiej l Ba...   \n",
            "9841                Klimatyczne mieszkanie w kamienicy.   \n",
            "9842           Gotowe 3 pokoje z ogródkiem na Zakrzowie   \n",
            "9843            4-pokojowe mieszkanie 101m2 + 2 balkony   \n",
            "\n",
            "                                                address      price  rooms  \\\n",
            "0            Gajowice, Fabryczna, Wrocław, dolnośląskie   569000.0      2   \n",
            "1     ul. Eugeniusza Horbaczewskiego, Gądów, Fabrycz...   750000.0      3   \n",
            "2     ul. Babiego Lata, Krzyki, Krzyki, Wrocław, dol...   865000.0      2   \n",
            "3     ul. Orawska, Ołtaszyn, Krzyki, Wrocław, dolnoś...   747450.0      3   \n",
            "4      ul. Ślężna, Borek, Krzyki, Wrocław, dolnośląskie        NaN      2   \n",
            "...                                                 ...        ...    ...   \n",
            "9839  Plac Kościuszki, Przedmieście Świdnickie, Star...  1260861.0      3   \n",
            "9840  ul. Kominiarska, Widawa, Psie Pole, Wrocław, d...   497960.0      2   \n",
            "9841  ul. Henryka Sienkiewicza, Plac Grunwaldzki, Śr...   620000.0      2   \n",
            "9842  ul. Zatorska, Zawidawie, Psie Pole, Wrocław, d...   689000.0      3   \n",
            "9843  Długa/ul. Gnieźnieńska, Szczepin, Stare Miasto...  1699000.0      4   \n",
            "\n",
            "        area   floor  max_floor   rent energy_certificate  \\\n",
            "0      39.19       2        7.0  290.0                NaN   \n",
            "1      63.60       4       11.0  940.0                NaN   \n",
            "2      50.00       3        4.0  550.0                NaN   \n",
            "3      66.44       2        2.0    NaN                NaN   \n",
            "4      41.69       3        7.0    NaN                NaN   \n",
            "...      ...     ...        ...    ...                ...   \n",
            "9839   70.60       3        6.0  710.0                NaN   \n",
            "9840   42.20  parter        2.0  500.0                NaN   \n",
            "9841   60.00       1        4.0  200.0                NaN   \n",
            "9842   63.82  parter        4.0  640.0                NaN   \n",
            "9843  101.36       4        4.0    NaN                NaN   \n",
            "\n",
            "                  form_of_the_property finishing_condition  \\\n",
            "0                       pełna własność      do wykończenia   \n",
            "1     spółdzielcze wł. prawo do lokalu     do zamieszkania   \n",
            "2                       pełna własność     do zamieszkania   \n",
            "3                       pełna własność      do wykończenia   \n",
            "4                       pełna własność      do wykończenia   \n",
            "...                                ...                 ...   \n",
            "9839                    pełna własność      do wykończenia   \n",
            "9840                    pełna własność      do wykończenia   \n",
            "9841                    pełna własność     do zamieszkania   \n",
            "9842                    pełna własność      do wykończenia   \n",
            "9843                    pełna własność      do wykończenia   \n",
            "\n",
            "     balcony_garden_terrace             parking_place      heating     market  \\\n",
            "0                    balkon  garaż/miejsce parkingowe     miejskie     wtórny   \n",
            "1                    balkon                       NaN    kotłownia     wtórny   \n",
            "2                    balkon  garaż/miejsce parkingowe     miejskie     wtórny   \n",
            "3                    balkon  garaż/miejsce parkingowe          NaN        NaN   \n",
            "4                    balkon  garaż/miejsce parkingowe          NaN        NaN   \n",
            "...                     ...                       ...          ...        ...   \n",
            "9839                 balkon  garaż/miejsce parkingowe     miejskie  pierwotny   \n",
            "9840                 balkon                       NaN       gazowe  pierwotny   \n",
            "9841                 balkon                       NaN  elektryczne     wtórny   \n",
            "9842                ogródek  garaż/miejsce parkingowe     miejskie  pierwotny   \n",
            "9843                 balkon  garaż/miejsce parkingowe          NaN        NaN   \n",
            "\n",
            "        advertisement_type  year_of_construction type_of_development  \\\n",
            "0                 prywatny                2024.0     apartamentowiec   \n",
            "1     biuro nieruchomości                 1980.0                blok   \n",
            "2                 prywatny                2015.0                blok   \n",
            "3                      NaN                   NaN                 NaN   \n",
            "4                      NaN                   NaN                 NaN   \n",
            "...                    ...                   ...                 ...   \n",
            "9839  biuro nieruchomości                 2024.0     apartamentowiec   \n",
            "9840  biuro nieruchomości                 2025.0                blok   \n",
            "9841  biuro nieruchomości                 1910.0           kamienica   \n",
            "9842  biuro nieruchomości                 2023.0                blok   \n",
            "9843                   NaN                   NaN                 NaN   \n",
            "\n",
            "         windows is_elevator  \n",
            "0     plastikowe        True  \n",
            "1     plastikowe        True  \n",
            "2     plastikowe        True  \n",
            "3            NaN         NaN  \n",
            "4            NaN         NaN  \n",
            "...          ...         ...  \n",
            "9839   drewniane        True  \n",
            "9840  plastikowe       False  \n",
            "9841  plastikowe       False  \n",
            "9842  plastikowe        True  \n",
            "9843         NaN         NaN  \n",
            "\n",
            "[9844 rows x 20 columns]\n",
            "Index(['title', 'address', 'price', 'rooms', 'area', 'floor', 'max_floor',\n",
            "       'rent', 'energy_certificate', 'form_of_the_property',\n",
            "       'finishing_condition', 'balcony_garden_terrace', 'parking_place',\n",
            "       'heating', 'market', 'advertisement_type', 'year_of_construction',\n",
            "       'type_of_development', 'windows', 'is_elevator'],\n",
            "      dtype='object')\n"
          ]
        }
      ],
      "source": [
        "print(data)\n",
        "print(data.columns)"
      ]
    },
    {
      "cell_type": "code",
      "execution_count": 5,
      "metadata": {
        "colab": {
          "base_uri": "https://localhost:8080/"
        },
        "id": "XjeXkKRtUmhm",
        "outputId": "5cb1be4f-0d05-43ec-aaf3-334648807a7e"
      },
      "outputs": [
        {
          "name": "stdout",
          "output_type": "stream",
          "text": [
            "title ['okazja apartament mieszkanie dwupokojowe'\n",
            " '3 pokojowe mieszkanie na sprzedaż/ kredyt #naStart'\n",
            " 'Słoneczny apartament, miejsce postojowe w cenie' ...\n",
            " '3-pokojowe mieszkanie w samym centrum'\n",
            " 'Klimatyczne mieszkanie w kamienicy.'\n",
            " 'Gotowe 3 pokoje z ogródkiem na Zakrzowie']\n",
            "address ['Gajowice, Fabryczna, Wrocław, dolnośląskie'\n",
            " 'ul. Eugeniusza Horbaczewskiego, Gądów, Fabryczna, Wrocław, dolnośląskie'\n",
            " 'ul. Babiego Lata, Krzyki, Krzyki, Wrocław, dolnośląskie' ...\n",
            " 'ul. Racławicka 100, Grabiszynek, Fabryczna, Wrocław, dolnośląskie'\n",
            " 'Strawińskiego, Jagodno, Krzyki, Wrocław, dolnośląskie'\n",
            " 'Al. Władysława Sikorskiego, Szczepin, Stare Miasto, Wrocław, dolnośląskie']\n",
            "price [ 569000.  750000.  865000. ... 1595712.  549670. 1260861.]\n",
            "rooms [ 2  3  4  5  1  6  8 10 11  7  9]\n",
            "area [39.19 63.6  50.   ... 88.8  61.16 83.11]\n",
            "floor ['2' '4' '3' '1' '5' '10' 'parter' '10+' '6' '9' '8' '0' '7' 'suterena'\n",
            " nan 'poddasze' '11']\n",
            "max_floor [ 7. 11.  4.  2. 10.  5.  1.  3.  8.  6. 17.  9. nan 16. 15. 18. 23. 48.\n",
            " 12. 14. 13. 22. 20. 24. 52. 19. 51. 28. 47.]\n",
            "rent [290. 940. 550.  nan 660. 285. 700. 650. 560. 450. 350. 500. 400. 950.\n",
            " 530. 420. 600. 800. 106. 942. 750.   1. 174. 900. 298. 411. 380. 570.\n",
            " 675. 740. 680. 370. 815. 499. 250. 890. 205. 695. 460. 620. 342. 690.\n",
            " 150. 730. 720. 280. 580. 200. 470. 630. 516. 590. 617. 480. 435. 391.\n",
            " 670. 850. 990. 240. 770. 310. 440. 710. 814. 999. 619. 490. 459. 383.\n",
            " 902. 520. 300. 947. 402. 840. 415. 430. 540. 820. 255. 739. 930. 260.\n",
            " 375. 546. 640. 230. 870. 120. 595. 220. 482. 390. 395. 190. 760. 767.\n",
            " 830. 465. 825. 834. 717. 635.   2. 474. 407. 970. 535. 775. 360. 384.\n",
            " 315. 510. 556. 715. 436. 130. 512.  80. 170. 270. 915. 714.  15. 716.\n",
            " 279. 725. 320. 880. 330. 610. 303. 210. 634. 722. 225. 618. 458. 133.\n",
            " 745. 663. 100. 471. 592. 699. 396. 749. 790. 913. 755. 860. 495. 810.\n",
            " 893. 613. 393. 110. 564. 672. 897. 854. 644. 533. 780. 478. 958. 960.\n",
            " 736. 912. 653. 329. 986. 235. 547. 648. 923. 489. 449. 496. 578. 624.\n",
            " 756. 855.  89. 388. 265. 335. 920. 488. 583. 524. 761. 552. 160. 505.\n",
            " 975. 603. 365. 306. 322. 366. 835. 611. 519. 405. 567. 622. 410. 295.\n",
            " 601. 899. 748. 498. 472. 678. 565. 721. 709. 616. 325. 437. 455. 408.\n",
            " 348. 426.  10. 352. 905. 762.  13. 933. 217. 198. 434. 832. 357. 432.\n",
            " 501. 486. 140. 969. 367. 574. 358. 768. 545. 656. 257. 980. 128. 175.\n",
            " 981. 233. 659. 278. 517. 586. 425. 555. 597. 557. 863. 852. 273.  95.\n",
            " 356. 515. 340. 625. 502. 345. 275. 784. 526. 445. 399.  25. 292.  12.\n",
            " 249. 477. 605. 582. 932. 392. 327. 528. 319. 538. 511. 536. 608. 726.\n",
            " 946. 925. 479. 876. 476. 549. 447. 723. 377.   3. 416. 362. 826. 684.\n",
            " 180. 668. 475. 743. 404. 746. 566. 895. 378. 685. 665. 646. 372. 758.\n",
            " 628. 406.   7. 281. 875. 712. 268. 633. 522. 602. 293. 487. 491.  50.\n",
            " 355. 446. 462. 286. 312. 682.  90.   5.  96. 639. 527. 412. 492. 433.\n",
            " 219.]\n",
            "energy_certificate [nan 'W trakcie realizacji / Zwolnione' 'B' 'A+' 'A' 'C' 'E' 'D' 'F' 'B-']\n",
            "form_of_the_property ['pełna własność' 'spółdzielcze wł. prawo do lokalu' nan\n",
            " 'użytkowanie wieczyste / dzierżawa' 'udział']\n",
            "finishing_condition ['do wykończenia' 'do zamieszkania' 'do remontu' nan]\n",
            "balcony_garden_terrace ['balkon' nan 'taras' 'ogródek' 'balkon, taras' 'taras, ogródek'\n",
            " 'balkon, ogródek, taras' 'taras, balkon' 'ogródek, taras'\n",
            " 'balkon, ogródek' 'taras, balkon, ogródek' 'balkon, taras, ogródek']\n",
            "parking_place ['garaż/miejsce parkingowe' nan]\n",
            "heating ['miejskie' 'kotłownia' nan 'gazowe' 'elektryczne' 'inne' 'piece kaflowe']\n",
            "market ['wtórny' nan 'pierwotny']\n",
            "advertisement_type ['prywatny' 'biuro nieruchomości ' nan 'deweloper']\n",
            "year_of_construction [2.0240e+03 1.9800e+03 2.0150e+03        nan 1.9020e+03 1.9680e+03\n",
            " 2.0080e+03 2.0190e+03 1.8900e+03 2.0200e+03 2.0220e+03 1.9300e+03\n",
            " 1.9750e+03 2.0160e+03 2.0250e+03 1.9600e+03 2.0140e+03 1.9100e+03\n",
            " 1.9000e+03 1.9350e+03 1.9980e+03 2.0010e+03 2.0180e+03 1.9250e+03\n",
            " 2.0230e+03 1.9730e+03 2.0120e+03 2.0000e+03 2.0130e+03 1.9040e+03\n",
            " 2.0260e+03 2.0020e+03 2.0110e+03 1.9110e+03 2.0170e+03 2.0030e+03\n",
            " 1.9850e+03 1.9700e+03 2.0100e+03 1.9630e+03 1.8890e+03 1.9650e+03\n",
            " 2.0050e+03 1.9050e+03 2.0210e+03 2.0040e+03 1.9710e+03 1.9870e+03\n",
            " 1.9620e+03 2.0060e+03 1.9920e+03 1.9880e+03 1.9200e+03 1.9840e+03\n",
            " 1.9760e+03 1.9570e+03 1.9370e+03 1.9070e+03 1.9930e+03 1.9500e+03\n",
            " 1.8880e+03 1.9780e+03 1.9900e+03 1.9670e+03 1.9060e+03 1.9640e+03\n",
            " 1.9910e+03 1.9810e+03 1.9890e+03 2.0090e+03 1.9950e+03 1.9970e+03\n",
            " 1.9820e+03 1.9720e+03 1.9590e+03 1.9150e+03 1.9990e+03 1.9830e+03\n",
            " 1.9390e+03 2.0070e+03 1.9610e+03 1.8990e+03 1.9360e+03 1.8800e+03\n",
            " 1.8980e+03 1.8960e+03 1.9940e+03 1.9400e+03 1.9690e+03 1.9790e+03\n",
            " 1.9320e+03 1.9330e+03 1.9380e+03 1.9230e+03 1.9010e+03 1.9860e+03\n",
            " 1.9800e+02 1.6000e+03 1.9450e+03 1.9740e+03 1.9560e+03 1.9140e+03\n",
            " 1.9090e+03 1.9030e+03 1.9660e+03 1.0000e+00 1.9270e+03 1.9290e+03\n",
            " 1.7920e+03 1.9260e+03 1.9120e+03 1.9770e+03 1.9340e+03 1.9580e+03\n",
            " 2.0233e+04 1.9550e+03 1.9080e+03 1.9460e+03 1.8700e+03 1.9180e+03\n",
            " 1.9960e+03 1.9520e+03 1.9210e+03 1.8870e+03 1.9540e+03 1.9280e+03\n",
            " 1.8850e+03 1.8770e+03 1.9470e+03 1.8940e+03 6.0000e+00 1.9160e+03\n",
            " 9.7000e+01 1.2410e+03 1.8650e+03 8.0000e+00 1.8200e+03 1.8730e+03\n",
            " 1.8830e+03 1.9190e+03 1.8930e+03]\n",
            "type_of_development ['apartamentowiec' 'blok' nan 'kamienica' 'dom wolnostojący' 'plomba'\n",
            " 'szeregowiec' 'wolnostojący' 'loft']\n",
            "windows ['plastikowe' nan 'drewniane' 'aluminiowe']\n",
            "is_elevator [True nan False]\n"
          ]
        }
      ],
      "source": [
        "for col in data.columns:\n",
        "  print(col,\n",
        "      pd.unique(data[col]))"
      ]
    },
    {
      "cell_type": "code",
      "execution_count": 6,
      "metadata": {
        "colab": {
          "base_uri": "https://localhost:8080/"
        },
        "id": "WC6dBnicXs7U",
        "outputId": "5eb1e7e8-90a5-4d37-82d0-66a0b6f1a15b"
      },
      "outputs": [
        {
          "name": "stdout",
          "output_type": "stream",
          "text": [
            "title 0\n",
            "address 0\n",
            "price 781\n",
            "rooms 0\n",
            "area 0\n",
            "floor 139\n",
            "max_floor 661\n",
            "rent 5294\n",
            "energy_certificate 9354\n",
            "form_of_the_property 1939\n",
            "finishing_condition 2907\n",
            "balcony_garden_terrace 2397\n",
            "parking_place 4228\n",
            "heating 2797\n",
            "market 1274\n",
            "advertisement_type 1274\n",
            "year_of_construction 2776\n",
            "type_of_development 2933\n",
            "windows 4243\n",
            "is_elevator 1274\n"
          ]
        }
      ],
      "source": [
        "for col in data.columns:\n",
        "  print(col,\n",
        "      data[col].isna().sum())"
      ]
    },
    {
      "cell_type": "code",
      "execution_count": 7,
      "metadata": {
        "id": "QaEbdZUrUQ0B"
      },
      "outputs": [],
      "source": [
        "target_feature = 'price'\n",
        "features = ['rooms', 'area', 'floor', 'max_floor', 'market', 'year_of_construction', 'finishing_condition', 'is_elevator']\n",
        "features_and_target = features + [target_feature]"
      ]
    },
    {
      "cell_type": "code",
      "execution_count": 8,
      "metadata": {
        "colab": {
          "base_uri": "https://localhost:8080/"
        },
        "id": "3BrrDcHJY_fB",
        "outputId": "4e358b6d-8de7-40f4-cdec-3b81c5012348"
      },
      "outputs": [
        {
          "name": "stdout",
          "output_type": "stream",
          "text": [
            "(4571, 9)\n"
          ]
        }
      ],
      "source": [
        "data_cleaned = data[features_and_target]\n",
        "for feature in features_and_target:\n",
        "  data_cleaned = data_cleaned[~data_cleaned[feature].isna()]\n",
        "print(data_cleaned.shape)"
      ]
    },
    {
      "cell_type": "code",
      "execution_count": 9,
      "metadata": {
        "id": "A3PF-xETauU0"
      },
      "outputs": [],
      "source": [
        "data_cleaned = data_cleaned[data_cleaned['floor'] != 'suterena']\n",
        "data_cleaned = data_cleaned[data_cleaned['floor'] != 'poddasze']\n",
        "data_cleaned['floor'] = data_cleaned['floor'].replace('parter', '0')\n",
        "data_cleaned['floor'] = data_cleaned['floor'].replace('10+', '11')\n",
        "data_cleaned['floor'] = data_cleaned['floor'].astype(int)"
      ]
    },
    {
      "cell_type": "code",
      "execution_count": 10,
      "metadata": {
        "colab": {
          "base_uri": "https://localhost:8080/"
        },
        "id": "5Mn7Dn_VW5zM",
        "outputId": "33419712-0403-43f1-d3d2-ba7c808375d9"
      },
      "outputs": [
        {
          "name": "stdout",
          "output_type": "stream",
          "text": [
            "rooms [ 2  3  4  5  1  6 10  8  7  9]\n",
            "area [39.19 63.6  50.   ... 91.35 88.8  63.82]\n",
            "floor [ 2  4  3  0 11  1  5  6  9  7  8 10]\n",
            "max_floor [ 7. 11.  4.  5.  3.  6. 10.  2.  8.  9. 18.  1. 23. 48. 16. 17. 14. 12.\n",
            " 15. 13. 22. 20. 52. 19. 51. 28.]\n",
            "market ['wtórny' 'pierwotny']\n",
            "year_of_construction [2.0240e+03 1.9800e+03 2.0150e+03 1.9020e+03 1.9680e+03 2.0080e+03\n",
            " 2.0190e+03 1.8900e+03 2.0200e+03 2.0220e+03 1.9300e+03 2.0160e+03\n",
            " 2.0250e+03 1.9600e+03 2.0140e+03 1.9000e+03 2.0010e+03 1.9250e+03\n",
            " 2.0230e+03 1.9730e+03 2.0120e+03 2.0000e+03 2.0130e+03 1.9040e+03\n",
            " 2.0020e+03 2.0110e+03 1.9110e+03 2.0170e+03 2.0030e+03 1.9850e+03\n",
            " 2.0100e+03 1.9630e+03 1.8890e+03 1.9650e+03 2.0050e+03 1.9050e+03\n",
            " 2.0210e+03 2.0040e+03 1.9710e+03 1.9870e+03 1.9620e+03 1.9750e+03\n",
            " 2.0060e+03 1.9920e+03 1.9880e+03 1.9200e+03 2.0180e+03 1.9840e+03\n",
            " 1.9760e+03 1.9570e+03 1.9070e+03 1.9930e+03 1.9500e+03 1.8880e+03\n",
            " 1.9780e+03 1.9900e+03 1.9060e+03 1.9640e+03 1.9350e+03 1.9910e+03\n",
            " 1.9810e+03 1.9890e+03 2.0090e+03 1.9950e+03 1.9700e+03 2.0260e+03\n",
            " 1.9820e+03 1.9720e+03 1.9590e+03 1.9150e+03 1.9990e+03 1.9830e+03\n",
            " 1.9390e+03 1.9970e+03 2.0070e+03 1.9610e+03 1.9100e+03 1.8990e+03\n",
            " 1.9360e+03 1.8980e+03 1.8960e+03 1.9400e+03 1.9690e+03 1.9790e+03\n",
            " 1.9330e+03 1.9380e+03 1.9370e+03 1.9940e+03 1.9860e+03 1.9560e+03\n",
            " 1.9140e+03 1.9010e+03 1.9670e+03 1.9270e+03 1.9740e+03 1.9260e+03\n",
            " 1.9120e+03 1.9660e+03 1.9340e+03 1.9580e+03 1.9770e+03 2.0233e+04\n",
            " 1.9080e+03 1.9980e+03 1.9460e+03 1.9320e+03 1.6000e+03 1.9450e+03\n",
            " 1.9960e+03 1.9210e+03 1.9290e+03 1.8870e+03 1.9180e+03 1.8850e+03\n",
            " 1.8770e+03 1.9470e+03 6.0000e+00 1.9540e+03 1.2410e+03 8.0000e+00\n",
            " 1.9280e+03 1.8200e+03 1.8730e+03 1.8830e+03 1.9230e+03 1.9190e+03\n",
            " 1.9030e+03 1.9550e+03 1.8930e+03]\n",
            "finishing_condition ['do wykończenia' 'do zamieszkania' 'do remontu']\n",
            "is_elevator [True False]\n",
            "price [ 569000.  750000.  865000. ...  805800.  610721. 1260861.]\n"
          ]
        }
      ],
      "source": [
        "for col in data_cleaned.columns:\n",
        "  print(col,\n",
        "      pd.unique(data_cleaned[col]))"
      ]
    },
    {
      "cell_type": "code",
      "execution_count": 11,
      "metadata": {
        "colab": {
          "base_uri": "https://localhost:8080/"
        },
        "id": "wYWX_zfYYRUo",
        "outputId": "a772d3b0-9e1b-466c-8297-edc10c3dffa1"
      },
      "outputs": [
        {
          "name": "stdout",
          "output_type": "stream",
          "text": [
            "(4567, 9)\n"
          ]
        }
      ],
      "source": [
        "print(data_cleaned.shape)"
      ]
    },
    {
      "cell_type": "markdown",
      "metadata": {
        "id": "Wq8zo5LWcTvt"
      },
      "source": [
        "change str to category numbers\n"
      ]
    },
    {
      "cell_type": "code",
      "execution_count": 12,
      "metadata": {
        "id": "GM0aDblObtLx"
      },
      "outputs": [],
      "source": [
        "data_cleaned['market'] = data_cleaned['market'].astype('category')\n",
        "data_cleaned['finishing_condition'] = data_cleaned['finishing_condition'].astype('category')\n",
        "data_cleaned['is_elevator'] = data_cleaned['is_elevator'].astype('category')"
      ]
    },
    {
      "cell_type": "code",
      "execution_count": 13,
      "metadata": {
        "colab": {
          "base_uri": "https://localhost:8080/"
        },
        "id": "oH6U2wiudeCn",
        "outputId": "d9236d5b-43e1-4ced-967b-a5f8eb6e842a"
      },
      "outputs": [
        {
          "data": {
            "text/plain": [
              "Index(['pierwotny', 'wtórny'], dtype='object')"
            ]
          },
          "execution_count": 13,
          "metadata": {},
          "output_type": "execute_result"
        }
      ],
      "source": [
        "data_cleaned['market'].cat.categories"
      ]
    },
    {
      "cell_type": "code",
      "execution_count": 14,
      "metadata": {
        "id": "7HgdOI3Odrmh"
      },
      "outputs": [],
      "source": [
        "data_cat = data_cleaned.copy()\n",
        "data_cat['market'] = data_cat['market'].cat.codes\n",
        "data_cat['finishing_condition'] = data_cat['finishing_condition'].cat.codes\n",
        "data_cat['is_elevator'] = data_cat['is_elevator'].cat.codes"
      ]
    },
    {
      "cell_type": "code",
      "execution_count": 15,
      "metadata": {
        "colab": {
          "base_uri": "https://localhost:8080/"
        },
        "id": "LGJ5sx1NcsQg",
        "outputId": "62b53819-8ce4-4193-af89-e7f749d489cc"
      },
      "outputs": [
        {
          "name": "stdout",
          "output_type": "stream",
          "text": [
            "rooms [ 2  3  4  5  1  6 10  8  7  9]\n",
            "area [39.19 63.6  50.   ... 91.35 88.8  63.82]\n",
            "floor [ 2  4  3  0 11  1  5  6  9  7  8 10]\n",
            "max_floor [ 7. 11.  4.  5.  3.  6. 10.  2.  8.  9. 18.  1. 23. 48. 16. 17. 14. 12.\n",
            " 15. 13. 22. 20. 52. 19. 51. 28.]\n",
            "market [1 0]\n",
            "year_of_construction [2.0240e+03 1.9800e+03 2.0150e+03 1.9020e+03 1.9680e+03 2.0080e+03\n",
            " 2.0190e+03 1.8900e+03 2.0200e+03 2.0220e+03 1.9300e+03 2.0160e+03\n",
            " 2.0250e+03 1.9600e+03 2.0140e+03 1.9000e+03 2.0010e+03 1.9250e+03\n",
            " 2.0230e+03 1.9730e+03 2.0120e+03 2.0000e+03 2.0130e+03 1.9040e+03\n",
            " 2.0020e+03 2.0110e+03 1.9110e+03 2.0170e+03 2.0030e+03 1.9850e+03\n",
            " 2.0100e+03 1.9630e+03 1.8890e+03 1.9650e+03 2.0050e+03 1.9050e+03\n",
            " 2.0210e+03 2.0040e+03 1.9710e+03 1.9870e+03 1.9620e+03 1.9750e+03\n",
            " 2.0060e+03 1.9920e+03 1.9880e+03 1.9200e+03 2.0180e+03 1.9840e+03\n",
            " 1.9760e+03 1.9570e+03 1.9070e+03 1.9930e+03 1.9500e+03 1.8880e+03\n",
            " 1.9780e+03 1.9900e+03 1.9060e+03 1.9640e+03 1.9350e+03 1.9910e+03\n",
            " 1.9810e+03 1.9890e+03 2.0090e+03 1.9950e+03 1.9700e+03 2.0260e+03\n",
            " 1.9820e+03 1.9720e+03 1.9590e+03 1.9150e+03 1.9990e+03 1.9830e+03\n",
            " 1.9390e+03 1.9970e+03 2.0070e+03 1.9610e+03 1.9100e+03 1.8990e+03\n",
            " 1.9360e+03 1.8980e+03 1.8960e+03 1.9400e+03 1.9690e+03 1.9790e+03\n",
            " 1.9330e+03 1.9380e+03 1.9370e+03 1.9940e+03 1.9860e+03 1.9560e+03\n",
            " 1.9140e+03 1.9010e+03 1.9670e+03 1.9270e+03 1.9740e+03 1.9260e+03\n",
            " 1.9120e+03 1.9660e+03 1.9340e+03 1.9580e+03 1.9770e+03 2.0233e+04\n",
            " 1.9080e+03 1.9980e+03 1.9460e+03 1.9320e+03 1.6000e+03 1.9450e+03\n",
            " 1.9960e+03 1.9210e+03 1.9290e+03 1.8870e+03 1.9180e+03 1.8850e+03\n",
            " 1.8770e+03 1.9470e+03 6.0000e+00 1.9540e+03 1.2410e+03 8.0000e+00\n",
            " 1.9280e+03 1.8200e+03 1.8730e+03 1.8830e+03 1.9230e+03 1.9190e+03\n",
            " 1.9030e+03 1.9550e+03 1.8930e+03]\n",
            "finishing_condition [1 2 0]\n",
            "is_elevator [1 0]\n",
            "price [ 569000.  750000.  865000. ...  805800.  610721. 1260861.]\n"
          ]
        }
      ],
      "source": [
        "for col in data_cat.columns:\n",
        "  print(col,\n",
        "      pd.unique(data_cat[col]))"
      ]
    },
    {
      "cell_type": "markdown",
      "metadata": {
        "id": "bkyhroM7eASW"
      },
      "source": [
        "one hot encoding"
      ]
    },
    {
      "cell_type": "code",
      "execution_count": 16,
      "metadata": {
        "id": "Gfo67n7ReB-h"
      },
      "outputs": [],
      "source": [
        "def price_hist(threshold=np.inf):\n",
        "  # Generate random data\n",
        "  data = data_cat['price'].to_numpy()\n",
        "  data = data[data<threshold]\n",
        "  # Create the histogram\n",
        "  plt.hist(data, bins=30, edgecolor='black')\n",
        "\n",
        "  # Add titles and labels\n",
        "  plt.title('Histogram of Random Data')\n",
        "  plt.xlabel('Value')\n",
        "  plt.ylabel('Frequency')\n",
        "\n",
        "  # Show the plot\n",
        "  plt.show()\n"
      ]
    },
    {
      "cell_type": "code",
      "execution_count": 17,
      "metadata": {
        "colab": {
          "base_uri": "https://localhost:8080/",
          "height": 472
        },
        "id": "T9Cn7l2EfobR",
        "outputId": "f4134a16-ae74-4d51-f388-072590f752fa"
      },
      "outputs": [
        {
          "data": {
            "image/png": "[encoded data removed]",
            "text/plain": [
              "<Figure size 640x480 with 1 Axes>"
            ]
          },
          "metadata": {},
          "output_type": "display_data"
        }
      ],
      "source": [
        "price_hist()"
      ]
    },
    {
      "cell_type": "code",
      "execution_count": 18,
      "metadata": {
        "colab": {
          "base_uri": "https://localhost:8080/",
          "height": 472
        },
        "id": "qv0DzT85fqCN",
        "outputId": "38d76b52-b814-4839-a4aa-9e7d81b7aa88"
      },
      "outputs": [
        {
          "data": {
            "image/png": "[encoded data removed]",
            "text/plain": [
              "<Figure size 640x480 with 1 Axes>"
            ]
          },
          "metadata": {},
          "output_type": "display_data"
        }
      ],
      "source": [
        "price_hist(2000000)"
      ]
    },
    {
      "cell_type": "markdown",
      "metadata": {
        "id": "z5wDVgkfgGzu"
      },
      "source": [
        "zrob wykres gdzie sa 3 histogramy przezroczyste nalozone na siebie, kazdy pokazuje rozklad ceny dla probek z kazdego typu wykonczenia"
      ]
    },
    {
      "cell_type": "code",
      "execution_count": 19,
      "metadata": {
        "id": "pdmlWqIPggHL"
      },
      "outputs": [],
      "source": [
        "data_cat = data_cat[data_cat['price'] < 2000000]"
      ]
    },
    {
      "cell_type": "code",
      "execution_count": 20,
      "metadata": {
        "colab": {
          "base_uri": "https://localhost:8080/"
        },
        "id": "V5IHfz5agqSb",
        "outputId": "65d2b8a6-4319-4b50-e7b3-daae5d057a8e"
      },
      "outputs": [
        {
          "name": "stdout",
          "output_type": "stream",
          "text": [
            "(4510, 9)\n"
          ]
        }
      ],
      "source": [
        "print(data_cat.shape)"
      ]
    },
    {
      "cell_type": "code",
      "execution_count": 21,
      "metadata": {
        "colab": {
          "base_uri": "https://localhost:8080/"
        },
        "id": "jOWhouAbhD0B",
        "outputId": "efcb685e-bfd8-4201-fc38-07953cbb6e33"
      },
      "outputs": [
        {
          "name": "stdout",
          "output_type": "stream",
          "text": [
            "      rooms   area  floor  max_floor  market  year_of_construction  \\\n",
            "0         2  39.19      2        7.0       1                2024.0   \n",
            "1         3  63.60      4       11.0       1                1980.0   \n",
            "2         2  50.00      3        4.0       1                2015.0   \n",
            "9         2  46.00      0        5.0       1                1902.0   \n",
            "10        3  46.03     11       11.0       1                1968.0   \n",
            "...     ...    ...    ...        ...     ...                   ...   \n",
            "9837      3  71.90      0        1.0       0                2023.0   \n",
            "9839      3  70.60      3        6.0       0                2024.0   \n",
            "9840      2  42.20      0        2.0       0                2025.0   \n",
            "9841      2  60.00      1        4.0       1                1910.0   \n",
            "9842      3  63.82      0        4.0       0                2023.0   \n",
            "\n",
            "      is_elevator      price  finishing_condition_0  finishing_condition_1  \\\n",
            "0               1   569000.0                  False                   True   \n",
            "1               1   750000.0                  False                  False   \n",
            "2               1   865000.0                  False                  False   \n",
            "9               0   513900.0                  False                  False   \n",
            "10              1   570000.0                   True                  False   \n",
            "...           ...        ...                    ...                    ...   \n",
            "9837            0   560000.0                  False                   True   \n",
            "9839            1  1260861.0                  False                   True   \n",
            "9840            0   497960.0                  False                   True   \n",
            "9841            0   620000.0                  False                  False   \n",
            "9842            1   689000.0                  False                   True   \n",
            "\n",
            "      finishing_condition_2  \n",
            "0                     False  \n",
            "1                      True  \n",
            "2                      True  \n",
            "9                      True  \n",
            "10                    False  \n",
            "...                     ...  \n",
            "9837                  False  \n",
            "9839                  False  \n",
            "9840                  False  \n",
            "9841                   True  \n",
            "9842                  False  \n",
            "\n",
            "[4510 rows x 11 columns]\n"
          ]
        }
      ],
      "source": [
        "data_one_hot = pd.get_dummies(data_cat, columns=['finishing_condition'])\n",
        "print(data_one_hot)"
      ]
    },
    {
      "cell_type": "code",
      "execution_count": 22,
      "metadata": {
        "colab": {
          "base_uri": "https://localhost:8080/"
        },
        "id": "Iuamr5efhsd9",
        "outputId": "4f44c37b-a75e-4199-f5c2-b3dceee83f4f"
      },
      "outputs": [
        {
          "name": "stdout",
          "output_type": "stream",
          "text": [
            "[[2.000e+00 3.919e+01 2.000e+00 7.000e+00 1.000e+00 2.024e+03 1.000e+00\n",
            "  0.000e+00 1.000e+00 0.000e+00]\n",
            " [3.000e+00 6.360e+01 4.000e+00 1.100e+01 1.000e+00 1.980e+03 1.000e+00\n",
            "  0.000e+00 0.000e+00 1.000e+00]\n",
            " [2.000e+00 5.000e+01 3.000e+00 4.000e+00 1.000e+00 2.015e+03 1.000e+00\n",
            "  0.000e+00 0.000e+00 1.000e+00]\n",
            " [2.000e+00 4.600e+01 0.000e+00 5.000e+00 1.000e+00 1.902e+03 0.000e+00\n",
            "  0.000e+00 0.000e+00 1.000e+00]\n",
            " [3.000e+00 4.603e+01 1.100e+01 1.100e+01 1.000e+00 1.968e+03 1.000e+00\n",
            "  1.000e+00 0.000e+00 0.000e+00]\n",
            " [4.000e+00 6.630e+01 1.000e+00 4.000e+00 1.000e+00 2.024e+03 1.000e+00\n",
            "  0.000e+00 1.000e+00 0.000e+00]\n",
            " [5.000e+00 7.613e+01 3.000e+00 3.000e+00 1.000e+00 2.008e+03 0.000e+00\n",
            "  0.000e+00 0.000e+00 1.000e+00]\n",
            " [2.000e+00 4.920e+01 1.000e+00 4.000e+00 1.000e+00 2.019e+03 1.000e+00\n",
            "  0.000e+00 0.000e+00 1.000e+00]\n",
            " [2.000e+00 4.800e+01 1.000e+00 4.000e+00 1.000e+00 1.890e+03 0.000e+00\n",
            "  0.000e+00 0.000e+00 1.000e+00]\n",
            " [2.000e+00 4.985e+01 1.000e+00 6.000e+00 0.000e+00 2.024e+03 1.000e+00\n",
            "  0.000e+00 1.000e+00 0.000e+00]] [14519.011 11792.453 17300.    11171.739 12383.229 10542.986  9194.733\n",
            " 12987.805 19791.666 14583.752] (4510, 10) (4510,)\n"
          ]
        }
      ],
      "source": [
        "X = data_one_hot.drop(columns=[target_feature]).to_numpy().astype(np.float32)\n",
        "y = data_one_hot[target_feature].to_numpy().astype(np.float32)\n",
        "y = y/X[:, 1] # wezmy cene za metr kwadratowy\n",
        "print(X[:10], y[:10], X.shape, y.shape)"
      ]
    },
    {
      "cell_type": "markdown",
      "metadata": {
        "id": "f1fjafhSiMYG"
      },
      "source": [
        "podzial na zbiory"
      ]
    },
    {
      "cell_type": "code",
      "execution_count": 23,
      "metadata": {
        "id": "07xFIqYfiMLz"
      },
      "outputs": [],
      "source": [
        "from sklearn.model_selection import train_test_split\n",
        "\n"
      ]
    },
    {
      "cell_type": "code",
      "execution_count": 24,
      "metadata": {
        "colab": {
          "base_uri": "https://localhost:8080/"
        },
        "id": "6wbDLTiBj9sC",
        "outputId": "54ca1087-8fd3-4725-fdcd-d9202f970eab"
      },
      "outputs": [
        {
          "name": "stdout",
          "output_type": "stream",
          "text": [
            "[[9.59425926e-01 9.45291928e-01 3.41965283e-01]\n",
            " [8.35050148e-01 4.96670615e-01 6.12739699e-01]\n",
            " [6.39849977e-01 1.03805561e-01 2.71606871e-01]\n",
            " [7.16218517e-01 1.39064302e-01 8.41300059e-01]\n",
            " [1.20203301e-01 3.19179706e-01 7.08199282e-01]\n",
            " [4.01361996e-01 8.61705593e-01 3.82432229e-01]\n",
            " [4.21510965e-01 8.57313090e-01 5.52875375e-01]\n",
            " [4.50946735e-01 6.33656090e-01 9.49462726e-01]\n",
            " [7.97804692e-01 3.88253906e-02 6.48313587e-01]\n",
            " [6.48459748e-01 8.29635565e-01 9.20616623e-01]\n",
            " [2.02512099e-01 2.10611400e-02 9.03251816e-01]\n",
            " [8.67616927e-01 9.58630434e-01 4.85683024e-01]\n",
            " [3.56838131e-01 3.97660622e-01 1.33701470e-01]\n",
            " [6.42091013e-01 2.96793381e-01 6.74320579e-01]\n",
            " [4.61963029e-01 4.92010186e-01 2.17175467e-01]\n",
            " [5.02193931e-01 7.30206593e-01 9.26509375e-04]\n",
            " [3.55979567e-01 4.50666553e-01 5.33383199e-03]\n",
            " [8.51133065e-01 4.04484031e-01 1.97699702e-01]\n",
            " [3.17628185e-01 3.84352664e-01 1.52334610e-01]\n",
            " [3.18066954e-01 9.60944863e-01 4.63559640e-01]\n",
            " [2.65219316e-01 4.86011128e-01 7.74397697e-01]\n",
            " [3.70920391e-01 6.52115088e-02 3.70167029e-01]\n",
            " [4.15156798e-01 6.61098806e-01 8.95463089e-01]\n",
            " [9.61660580e-01 8.03010154e-01 9.30693527e-01]\n",
            " [6.11652816e-01 9.00018421e-01 6.87784105e-02]\n",
            " [4.77404027e-01 4.07970504e-01 6.56400105e-01]\n",
            " [3.13905128e-01 4.49197977e-01 8.19583181e-01]\n",
            " [1.99589914e-01 1.80769099e-01 3.82716488e-01]\n",
            " [2.19392710e-01 6.23811481e-01 7.60433208e-02]\n",
            " [2.65989810e-01 3.34388952e-02 3.36338056e-01]\n",
            " [2.91918392e-01 2.21868641e-01 6.49823979e-03]\n",
            " [7.07306508e-01 4.41758523e-01 6.68242477e-02]\n",
            " [5.44780301e-01 3.93070598e-01 6.27985053e-01]\n",
            " [8.35340296e-01 7.10686212e-01 2.57506760e-01]\n",
            " [7.71629582e-01 1.60597741e-01 5.92860218e-01]\n",
            " [9.12179746e-01 9.43758146e-02 3.43364113e-01]\n",
            " [3.78202524e-01 9.95231990e-01 1.43683729e-01]\n",
            " [6.86046952e-01 7.41871548e-01 7.71252033e-02]\n",
            " [2.11678597e-01 5.40744196e-01 6.93830549e-01]\n",
            " [2.10739755e-01 6.42362431e-02 1.20912854e-01]\n",
            " [1.19378432e-01 8.10747326e-01 3.76965319e-01]\n",
            " [1.44681510e-01 9.37117295e-01 2.50671889e-01]\n",
            " [2.71809389e-01 2.92750058e-01 4.27574999e-01]\n",
            " [3.83091951e-01 4.91861224e-01 9.93909561e-01]\n",
            " [9.24611096e-02 8.04250982e-01 2.72540005e-01]\n",
            " [5.66144821e-01 3.79993093e-01 6.61863548e-01]\n",
            " [8.89707709e-01 7.65446711e-01 3.00029338e-01]\n",
            " [8.50659727e-01 3.13167332e-01 1.54219763e-01]\n",
            " [9.68702791e-01 7.67646959e-01 3.21884479e-01]\n",
            " [1.48648355e-01 6.56443140e-01 8.44776435e-01]\n",
            " [6.84549417e-03 7.64695163e-02 6.14006418e-01]\n",
            " [6.43120035e-01 4.61189816e-01 9.16948786e-01]\n",
            " [8.97937752e-01 3.15727299e-01 5.29539225e-01]\n",
            " [7.17011110e-01 8.36855026e-02 5.89166984e-01]\n",
            " [3.60074950e-01 8.35037898e-01 6.05616559e-01]\n",
            " [7.87429215e-01 4.45091557e-01 3.82000331e-01]\n",
            " [8.45557496e-01 4.28480447e-01 7.52960396e-01]\n",
            " [7.64629366e-01 7.03927393e-01 6.48495343e-01]\n",
            " [2.04525595e-01 2.92475144e-02 8.83656826e-01]\n",
            " [9.29393977e-01 1.71951864e-01 2.70977100e-01]\n",
            " [8.49913021e-01 8.31072339e-01 6.68360771e-01]\n",
            " [7.96110625e-01 7.16024749e-01 4.56781488e-01]\n",
            " [8.74423476e-01 1.52547606e-01 1.65743009e-01]\n",
            " [6.01208081e-01 5.01025466e-01 6.83019538e-01]\n",
            " [9.23398844e-01 5.41547312e-01 5.44552251e-01]\n",
            " [9.23085371e-02 3.10042757e-01 6.07288676e-01]\n",
            " [9.82951335e-01 8.93069049e-01 3.66700673e-01]\n",
            " [7.79212409e-01 9.45476412e-01 9.24006289e-01]\n",
            " [3.06177543e-01 9.84500103e-01 6.48922061e-01]\n",
            " [3.42853019e-01 7.65412717e-03 2.22691970e-01]\n",
            " [2.83254004e-01 3.66004260e-01 5.72939221e-01]\n",
            " [8.71982267e-01 2.07462968e-01 9.33421746e-01]\n",
            " [8.48355038e-01 3.27978973e-01 7.45359954e-03]\n",
            " [6.46523586e-01 3.12263675e-01 1.06622439e-01]\n",
            " [1.62105006e-01 8.08292647e-01 7.58570714e-01]\n",
            " [3.08402947e-01 3.82214645e-01 2.61477935e-02]\n",
            " [9.36185586e-01 1.19703748e-01 5.71933122e-01]\n",
            " [4.87603592e-01 7.16173701e-02 4.38815233e-01]\n",
            " [9.12440809e-01 2.72080285e-02 2.42988121e-02]\n",
            " [1.81873211e-01 7.78949680e-01 6.87126575e-01]\n",
            " [6.48771251e-01 9.85003536e-01 2.24120610e-01]\n",
            " [5.88054964e-01 6.06396259e-01 7.05483280e-01]\n",
            " [9.43223817e-01 6.62620682e-01 6.29569323e-01]\n",
            " [8.00651366e-01 4.97312873e-01 8.97599518e-02]\n",
            " [7.18646786e-01 3.51559905e-01 9.36458712e-01]\n",
            " [1.13251547e-01 6.89305271e-01 5.31442280e-01]\n",
            " [1.88442962e-01 2.19691274e-01 2.48880809e-01]\n",
            " [4.09904010e-01 9.44786923e-01 5.95283775e-01]\n",
            " [2.25490273e-01 8.83629027e-01 3.43259553e-01]\n",
            " [3.19206659e-01 7.74100619e-01 1.34612866e-01]\n",
            " [3.19634985e-01 3.74478171e-01 7.48448226e-01]\n",
            " [9.02946337e-01 6.47497227e-02 7.09152666e-01]\n",
            " [7.91284224e-01 6.41479225e-01 7.10486339e-01]\n",
            " [6.21752029e-01 3.43206301e-01 7.75483543e-01]\n",
            " [5.94683426e-01 5.09582356e-01 8.06016233e-01]\n",
            " [7.75403826e-01 2.19892227e-01 4.00048320e-01]\n",
            " [3.95655236e-01 7.70940809e-01 7.05576085e-01]\n",
            " [9.55297130e-01 9.84443210e-01 4.18181715e-01]\n",
            " [2.71358955e-01 6.68896813e-01 6.14449065e-01]\n",
            " [2.88551206e-01 2.66683550e-01 1.55405216e-01]] [0 0 1 1 0 0 0 0 0 1 0 0 0 1 0 1 0 0 1 0 0 1 1 0 0 0 0 1 1 0 0 1 0 0 0 0 1\n",
            " 0 1 0 1 0 0 0 0 1 1 0 0 0 0 0 1 1 0 1 0 1 1 0 0 0 1 1 1 0 0 1 1 0 0 1 1 0\n",
            " 1 1 1 1 0 0 1 0 1 1 1 1 1 0 1 0 0 1 0 1 1 1 0 0 0 0]\n"
          ]
        }
      ],
      "source": [
        "X_train = np.random.rand(100, 3)\n",
        "y_train = np.random.randint(0, 2, 100)\n",
        "print(X_train, y_train)"
      ]
    },
    {
      "cell_type": "code",
      "execution_count": 25,
      "metadata": {
        "colab": {
          "base_uri": "https://localhost:8080/"
        },
        "id": "5o9Ua3xRkn4O",
        "outputId": "f8ff3df9-3759-435e-86ee-2dd3ba3cfa9d"
      },
      "outputs": [
        {
          "name": "stdout",
          "output_type": "stream",
          "text": [
            "[[0.02074511 0.68292506 0.57197232]\n",
            " [0.38268875 0.66780732 0.79622879]\n",
            " [0.35940335 0.95051287 0.0246178 ]\n",
            " [0.23404345 0.75474143 0.60341556]\n",
            " [0.83540725 0.16253195 0.33839922]\n",
            " [0.14214664 0.16753768 0.98645428]\n",
            " [0.50696021 0.82323108 0.75724248]\n",
            " [0.5608259  0.98093727 0.3752813 ]\n",
            " [0.11633282 0.18997772 0.59328601]\n",
            " [0.3649803  0.37395027 0.92623294]\n",
            " [0.14451975 0.22811571 0.78492371]\n",
            " [0.99842226 0.60926548 0.43071553]\n",
            " [0.45573815 0.97932776 0.65914401]\n",
            " [0.23907315 0.53489682 0.92643211]\n",
            " [0.38962926 0.52989957 0.14790433]\n",
            " [0.23426528 0.07020955 0.23034476]\n",
            " [0.3871055  0.10523296 0.96037886]\n",
            " [0.59116045 0.93392955 0.74323843]\n",
            " [0.19290514 0.45811486 0.48318159]\n",
            " [0.6744674  0.3697471  0.14660578]] [1 0 1 1 0 1 1 1 1 0 0 0 0 1 1 0 1 0 1 1]\n"
          ]
        }
      ],
      "source": [
        "X_test = np.random.rand(20, 3)\n",
        "y_test = np.random.randint(0, 2, 20)\n",
        "print(X_test, y_test)"
      ]
    },
    {
      "cell_type": "code",
      "execution_count": 26,
      "metadata": {
        "id": "5HZAVnP-ky9l"
      },
      "outputs": [],
      "source": [
        "from sklearn.svm import SVC\n",
        "\n",
        "param_grid = {'C': [0.001, 0.01, 0.1, 1, 10, 100], 'gamma': [0.001, 0.01, 0.1, 1, 10, 100]}"
      ]
    },
    {
      "cell_type": "code",
      "execution_count": 30,
      "metadata": {
        "colab": {
          "base_uri": "https://localhost:8080/",
          "height": 105
        },
        "id": "cvAGympgluZa",
        "outputId": "f78579d9-8bef-4907-bc9d-fed8a9c43e90"
      },
      "outputs": [
        {
          "name": "stdout",
          "output_type": "stream",
          "text": [
            "0.001 0.001\n",
            "0.001 0.01\n",
            "0.001 0.1\n",
            "0.001 1\n",
            "0.001 10\n",
            "0.001 100\n",
            "0.01 0.001\n",
            "0.01 0.01\n",
            "0.01 0.1\n",
            "0.01 1\n",
            "0.01 10\n",
            "0.01 100\n",
            "0.1 0.001\n",
            "0.1 0.01\n",
            "0.1 0.1\n",
            "0.1 1\n",
            "0.1 10\n",
            "0.1 100\n",
            "1 0.001\n",
            "1 0.01\n",
            "1 0.1\n",
            "1 1\n",
            "1 10\n",
            "1 100\n",
            "10 0.001\n",
            "10 0.01\n",
            "10 0.1\n",
            "10 1\n",
            "10 10\n",
            "10 100\n",
            "100 0.001\n",
            "100 0.01\n",
            "100 0.1\n",
            "100 1\n",
            "100 10\n",
            "100 100\n"
          ]
        }
      ],
      "source": [
        "results = []\n",
        "for c in param_grid['C']:\n",
        "  for gamma in param_grid['gamma']:\n",
        "    svc = SVC(C=c, gamma=gamma)\n",
        "    svc.fit(X_train, y_train)\n",
        "    results.append((svc.score(X_test, y_test)))\n",
        "    print(c, gamma)"
      ]
    },
    {
      "cell_type": "code",
      "execution_count": 31,
      "metadata": {
        "id": "wS6wEJ44mTyq"
      },
      "outputs": [
        {
          "ename": "TypeError",
          "evalue": "'float' object is not subscriptable",
          "output_type": "error",
          "traceback": [
            "\u001b[0;31m---------------------------------------------------------------------------\u001b[0m",
            "\u001b[0;31mTypeError\u001b[0m                                 Traceback (most recent call last)",
            "Cell \u001b[0;32mIn[31], line 1\u001b[0m\n\u001b[0;32m----> 1\u001b[0m svc \u001b[38;5;241m=\u001b[39m \u001b[38;5;28;43msorted\u001b[39;49m\u001b[43m(\u001b[49m\u001b[43mresults\u001b[49m\u001b[43m,\u001b[49m\u001b[43m \u001b[49m\u001b[43mkey\u001b[49m\u001b[38;5;241;43m=\u001b[39;49m\u001b[38;5;28;43;01mlambda\u001b[39;49;00m\u001b[43m \u001b[49m\u001b[43mx\u001b[49m\u001b[43m:\u001b[49m\u001b[43m \u001b[49m\u001b[43mx\u001b[49m\u001b[43m[\u001b[49m\u001b[38;5;241;43m0\u001b[39;49m\u001b[43m]\u001b[49m\u001b[43m)\u001b[49m[\u001b[38;5;241m-\u001b[39m\u001b[38;5;241m1\u001b[39m][\u001b[38;5;241m1\u001b[39m]\n",
            "Cell \u001b[0;32mIn[31], line 1\u001b[0m, in \u001b[0;36m<lambda>\u001b[0;34m(x)\u001b[0m\n\u001b[0;32m----> 1\u001b[0m svc \u001b[38;5;241m=\u001b[39m \u001b[38;5;28msorted\u001b[39m(results, key\u001b[38;5;241m=\u001b[39m\u001b[38;5;28;01mlambda\u001b[39;00m x: \u001b[43mx\u001b[49m\u001b[43m[\u001b[49m\u001b[38;5;241;43m0\u001b[39;49m\u001b[43m]\u001b[49m)[\u001b[38;5;241m-\u001b[39m\u001b[38;5;241m1\u001b[39m][\u001b[38;5;241m1\u001b[39m]\n",
            "\u001b[0;31mTypeError\u001b[0m: 'float' object is not subscriptable"
          ]
        }
      ],
      "source": [
        "svc = sorted(results, key=lambda x: x[0])[-1][1]"
      ]
    },
    {
      "cell_type": "code",
      "execution_count": null,
      "metadata": {
        "colab": {
          "base_uri": "https://localhost:8080/"
        },
        "id": "UG1O12gnnV5F",
        "outputId": "48371566-d1e5-44cb-a558-d2b128bb8692"
      },
      "outputs": [
        {
          "data": {
            "text/plain": [
              "0.55"
            ]
          },
          "execution_count": 142,
          "metadata": {},
          "output_type": "execute_result"
        }
      ],
      "source": [
        "svc.score(X_test, y_test)"
      ]
    },
    {
      "cell_type": "code",
      "execution_count": 51,
      "metadata": {
        "id": "n2vYD6yOoE31"
      },
      "outputs": [],
      "source": [
        "X_train, X_test, y_train, y_test = train_test_split(X, y, test_size=.1, random_state=420)\n",
        "X_train, X_val, y_train, y_val = train_test_split(X_train, y_train, test_size=.25, random_state=420)"
      ]
    },
    {
      "cell_type": "code",
      "execution_count": 34,
      "metadata": {
        "colab": {
          "base_uri": "https://localhost:8080/"
        },
        "id": "FTiE6FEZodKh",
        "outputId": "75f43d12-b7e8-49aa-a35a-416a6fe6af3a"
      },
      "outputs": [
        {
          "name": "stdout",
          "output_type": "stream",
          "text": [
            "(3044, 10) (1015, 10) (451, 10)\n"
          ]
        }
      ],
      "source": [
        "print(X_train.shape, X_val.shape, X_test.shape)"
      ]
    },
    {
      "cell_type": "markdown",
      "metadata": {
        "id": "ZN_2nQO1pfwV"
      },
      "source": [
        "srednia 0 + odchylenie std 1\n"
      ]
    },
    {
      "cell_type": "code",
      "execution_count": 35,
      "metadata": {
        "id": "59xzRonrpFkR"
      },
      "outputs": [],
      "source": [
        "from sklearn.preprocessing import StandardScaler\n",
        "\n",
        "X_scaler = StandardScaler()\n",
        "X_scaler.fit(X_train)\n",
        "\n",
        "X_train = X_scaler.transform(X_train)\n",
        "X_test = X_scaler.transform(X_test)\n",
        "X_val = X_scaler.transform(X_val)\n",
        "\n",
        "y_scaler = StandardScaler()\n",
        "y_scaler.fit(y_train.reshape(-1, 1))\n",
        "\n",
        "y_train = y_scaler.transform(y_train.reshape(-1, 1)).flatten()\n",
        "y_test = y_scaler.transform(y_test.reshape(-1, 1)).flatten()\n",
        "y_val = y_scaler.transform(y_val.reshape(-1, 1)).flatten()"
      ]
    },
    {
      "cell_type": "code",
      "execution_count": 36,
      "metadata": {
        "colab": {
          "base_uri": "https://localhost:8080/"
        },
        "id": "DyT6hECp3PKY",
        "outputId": "ddc64af2-428f-4f4b-871a-89ca09632ade"
      },
      "outputs": [
        {
          "name": "stdout",
          "output_type": "stream",
          "text": [
            "[-0.03933304 -0.25079998 -1.0334543  ... -1.0937322  -0.31371662\n",
            " -0.924719  ]\n"
          ]
        }
      ],
      "source": [
        "print(y_train)"
      ]
    },
    {
      "cell_type": "code",
      "execution_count": 37,
      "metadata": {
        "colab": {
          "base_uri": "https://localhost:8080/"
        },
        "id": "wx85yeIzqSyO",
        "outputId": "25ad7545-67a3-422a-f369-448c861e0edf"
      },
      "outputs": [
        {
          "name": "stdout",
          "output_type": "stream",
          "text": [
            "0.61612606 0.6635621\n"
          ]
        }
      ],
      "source": [
        "from sklearn.linear_model import LinearRegression\n",
        "from sklearn.metrics import mean_squared_error\n",
        "\n",
        "model_lin = LinearRegression()\n",
        "model_lin.fit(X_train, y_train)\n",
        "\n",
        "print(mean_squared_error(model_lin.predict(X_train), y_train),\n",
        "      mean_squared_error(model_lin.predict(X_val), y_val))"
      ]
    },
    {
      "cell_type": "code",
      "execution_count": 38,
      "metadata": {
        "colab": {
          "base_uri": "https://localhost:8080/"
        },
        "id": "eeWBpee8rq5Z",
        "outputId": "cad24a5d-85dc-49eb-afea-b38c00aa2b96"
      },
      "outputs": [
        {
          "name": "stdout",
          "output_type": "stream",
          "text": [
            "[14276.243] [15477.134]\n",
            "[13074.98] [11468.556]\n",
            "[19560.283] [14078.113]\n",
            "[10551.181] [12161.341]\n",
            "[12268.278] [13025.433]\n",
            "[11934.157] [11792.921]\n",
            "[10689.985] [13036.727]\n",
            "[13003.356] [14069.821]\n",
            "[15441.177] [11983.781]\n",
            "[17588.963] [16407.568]\n"
          ]
        }
      ],
      "source": [
        "for i in range(10):\n",
        "  print( y_scaler.inverse_transform(y_val[i].reshape(-1, 1)).flatten(), y_scaler.inverse_transform(model_lin.predict(X_val[i].reshape(1, -1))[0].reshape(-1, 1)).flatten())"
      ]
    },
    {
      "cell_type": "code",
      "execution_count": 39,
      "metadata": {
        "id": "j9671WTSs5Cs"
      },
      "outputs": [],
      "source": [
        "X_train_t = torch.tensor(X_train)\n",
        "X_test_t = torch.tensor(X_test)\n",
        "X_val_t = torch.tensor(X_val)\n",
        "\n",
        "y_train_t = torch.tensor(y_train)\n",
        "y_test_t = torch.tensor(y_test)\n",
        "y_val_t = torch.tensor(y_val)"
      ]
    },
    {
      "cell_type": "code",
      "execution_count": 40,
      "metadata": {
        "id": "xaaxLb_JtIqr"
      },
      "outputs": [],
      "source": [
        "class Net(torch.nn.Module):\n",
        "  def __init__(self):\n",
        "    super().__init__()\n",
        "    self.net = torch.nn.Sequential(\n",
        "        torch.nn.Linear(10, 256),\n",
        "        torch.nn.ReLU(),\n",
        "        torch.nn.Dropout(.3),\n",
        "        torch.nn.Linear(256, 128),\n",
        "        torch.nn.ReLU(),\n",
        "        torch.nn.Dropout(.3),\n",
        "        torch.nn.Linear(128, 1),\n",
        "      # torch.nn.Linear(10, 1)\n",
        "    )\n",
        "\n",
        "  def forward(self, x):\n",
        "    # x.shape = (n_samples, m_features)\n",
        "    return self.net(x)"
      ]
    },
    {
      "cell_type": "code",
      "execution_count": 41,
      "metadata": {
        "id": "LiniZSH9vKoy"
      },
      "outputs": [],
      "source": [
        "from torch.utils.data import TensorDataset, DataLoader\n",
        "train_dataset = TensorDataset(X_train_t, y_train_t)\n",
        "val_dataset = TensorDataset(X_val_t, y_val_t)\n",
        "\n",
        "batch_size = 16 # po ile probek na raz  ktorycg bedzeie srednia zamin beedizemy uczyc\n",
        "train_dataloader = DataLoader(train_dataset, batch_size=batch_size, shuffle=True) # iterator do robienia batchy\n",
        "val_dataloader = DataLoader(val_dataset, batch_size=batch_size, shuffle=True) # iterator do robienia batchy"
      ]
    },
    {
      "cell_type": "markdown",
      "metadata": {
        "id": "GOjXs8LN6Y4L"
      },
      "source": []
    },
    {
      "cell_type": "code",
      "execution_count": 42,
      "metadata": {
        "colab": {
          "base_uri": "https://localhost:8080/"
        },
        "id": "0SwtyB-2xDZX",
        "outputId": "93d86574-30b9-4723-bde9-506cf52ca95a"
      },
      "outputs": [
        {
          "name": "stdout",
          "output_type": "stream",
          "text": [
            "0 0.6349270343780518 0.6484723091125488\n",
            "1 0.607154130935669 0.6189397573471069\n",
            "2 0.5712355375289917 0.607807993888855\n",
            "3 0.5636972188949585 0.5947218537330627\n",
            "4 0.5611659288406372 0.5910079479217529\n",
            "5 0.5382540225982666 0.60186767578125\n",
            "6 0.5253379940986633 0.5677241086959839\n",
            "7 0.5253933668136597 0.5793014168739319\n",
            "8 0.5419711470603943 0.550758957862854\n",
            "9 0.5156473517417908 0.5492950081825256\n",
            "10 0.5157026648521423 0.5551953315734863\n",
            "11 0.5121889710426331 0.5551531314849854\n",
            "12 0.49406906962394714 0.5567882061004639\n",
            "13 0.5082519054412842 0.5520416498184204\n",
            "14 0.4967869818210602 0.5500093698501587\n",
            "15 0.5049730539321899 0.5458798408508301\n",
            "16 0.49962469935417175 0.5751463174819946\n",
            "17 0.49328476190567017 0.5568180084228516\n",
            "18 0.49277740716934204 0.5629428029060364\n",
            "19 0.49533727765083313 0.5654590129852295\n",
            "20 0.47949713468551636 0.6022308468818665\n",
            "21 0.48515769839286804 0.5476052761077881\n",
            "22 0.4850998818874359 0.5653956532478333\n",
            "23 0.48440635204315186 0.5475192070007324\n",
            "24 0.47477835416793823 0.555260181427002\n",
            "25 0.48613983392715454 0.5467767715454102\n",
            "26 0.4946525990962982 0.5443889498710632\n",
            "27 0.4758089482784271 0.559803307056427\n",
            "28 0.47003382444381714 0.5724936127662659\n",
            "29 0.4698214530944824 0.5474147200584412\n",
            "30 0.46771955490112305 0.5623294115066528\n",
            "31 0.47250258922576904 0.561508297920227\n",
            "32 0.4659121036529541 0.5594871640205383\n",
            "33 0.46584057807922363 0.5369247198104858\n",
            "34 0.4554452896118164 0.5354854464530945\n",
            "35 0.46155959367752075 0.5536515116691589\n",
            "36 0.4532078802585602 0.5419849157333374\n",
            "37 0.4632548689842224 0.5553336143493652\n",
            "38 0.4597887694835663 0.5391622185707092\n",
            "39 0.4552779793739319 0.5531862378120422\n",
            "40 0.46438834071159363 0.5357754826545715\n",
            "41 0.44770553708076477 0.5517909526824951\n",
            "42 0.44838622212409973 0.5269250869750977\n",
            "43 0.44589582085609436 0.5417158007621765\n",
            "44 0.44591355323791504 0.5418829917907715\n",
            "45 0.43331900238990784 0.5473149418830872\n",
            "46 0.43849968910217285 0.5415506362915039\n",
            "47 0.4437767565250397 0.5485712885856628\n",
            "48 0.4294338822364807 0.5549720525741577\n",
            "49 0.4639025926589966 0.5607852935791016\n",
            "50 0.42960217595100403 0.5523943901062012\n",
            "51 0.4432946443557739 0.5476816296577454\n",
            "52 0.43262964487075806 0.5487635135650635\n",
            "53 0.4388216733932495 0.5523338317871094\n",
            "54 0.4292370676994324 0.5329628586769104\n",
            "55 0.43056589365005493 0.5368359088897705\n",
            "56 0.42798176407814026 0.533318281173706\n",
            "57 0.4098762571811676 0.5478774309158325\n",
            "58 0.418163925409317 0.5250646471977234\n",
            "59 0.4211288094520569 0.5243057608604431\n",
            "60 0.42810165882110596 0.5110840201377869\n",
            "61 0.4140947163105011 0.5372608304023743\n",
            "62 0.40854763984680176 0.5210551023483276\n",
            "63 0.41011327505111694 0.5308058857917786\n",
            "64 0.41505932807922363 0.5273095369338989\n",
            "65 0.4126468598842621 0.5172271728515625\n",
            "66 0.4109087288379669 0.5111193060874939\n",
            "67 0.4191266596317291 0.531562089920044\n",
            "68 0.41086894273757935 0.5466451048851013\n",
            "69 0.41618186235427856 0.5123170614242554\n",
            "70 0.41190820932388306 0.5186799764633179\n",
            "71 0.4082622230052948 0.5303303599357605\n",
            "72 0.41335904598236084 0.5047800540924072\n",
            "73 0.40783652663230896 0.5253790020942688\n",
            "74 0.4021960496902466 0.575239896774292\n",
            "75 0.4043365716934204 0.5382905006408691\n",
            "76 0.41968947649002075 0.5316107869148254\n",
            "77 0.4061312675476074 0.5388204455375671\n",
            "78 0.39155688881874084 0.5099600553512573\n",
            "79 0.4051538407802582 0.5265817642211914\n",
            "80 0.39707106351852417 0.5327522158622742\n",
            "81 0.3825794756412506 0.504592776298523\n",
            "82 0.38928720355033875 0.5225217342376709\n",
            "83 0.3924534022808075 0.5141058564186096\n",
            "84 0.40092626214027405 0.5492414236068726\n",
            "85 0.38576817512512207 0.506633996963501\n",
            "86 0.39650076627731323 0.5474827289581299\n",
            "87 0.3978424370288849 0.5282844305038452\n",
            "88 0.3823491930961609 0.5039650201797485\n",
            "89 0.38122302293777466 0.5187686681747437\n",
            "90 0.38826504349708557 0.5259647965431213\n",
            "91 0.3906646966934204 0.5084810853004456\n",
            "92 0.37951987981796265 0.50392746925354\n",
            "93 0.3794000744819641 0.5232557654380798\n",
            "94 0.3912180960178375 0.5317124128341675\n",
            "95 0.3774348795413971 0.5101171731948853\n",
            "96 0.3891618847846985 0.519153892993927\n",
            "97 0.3805570900440216 0.5155894756317139\n",
            "98 0.3796966075897217 0.4931359887123108\n",
            "99 0.37084466218948364 0.5205006003379822\n"
          ]
        }
      ],
      "source": [
        "net = Net()\n",
        "lr = 0.001\n",
        "n_epochs = 100 # ile razy 1 datraset vbedfzeimy mielic przez siec\n",
        "\n",
        "optim = torch.optim.Adam(net.parameters(), lr=lr) # taki leopszy algorym go liczenia gradientu\n",
        "loss = torch.nn.MSELoss()\n",
        "\n",
        "for i in range(n_epochs):\n",
        "  loss_sum = 0\n",
        "  for inputs, targets in train_dataloader:\n",
        "\n",
        "    outputs = net(inputs)\n",
        "    l = loss(outputs.flatten(), targets)\n",
        "    l.backward()\n",
        "    with torch.no_grad():\n",
        "      loss_sum += l*inputs.shape[0]\n",
        "      # loss_sum += mean_squared_error(model_lin.predict(inputs), targets)\n",
        "      optim.step()\n",
        "      optim.zero_grad()\n",
        "\n",
        "  with torch.no_grad():\n",
        "    print(i, (loss_sum/X_train_t.shape[0]).item(), loss(net(X_val_t).flatten(), y_val_t).item())"
      ]
    },
    {
      "cell_type": "code",
      "execution_count": 43,
      "metadata": {
        "colab": {
          "base_uri": "https://localhost:8080/"
        },
        "id": "tM2NZ66v7-QM",
        "outputId": "30b7013d-852f-4523-d8e1-829a674bb32a"
      },
      "outputs": [
        {
          "name": "stdout",
          "output_type": "stream",
          "text": [
            "0.4631926715373993\n",
            "5245823.3756263945\n"
          ]
        }
      ],
      "source": [
        "net.eval()\n",
        "print(loss(net(X_val_t).flatten(), y_val_t).item())\n",
        "\n",
        "preds_unscaled = y_scaler.inverse_transform(net(X_val_t).detach().numpy()).flatten()\n",
        "\n",
        "targets_unscaled = y_scaler.inverse_transform(y_val_t.reshape(-1, 1)).flatten()\n",
        "print(mean_squared_error(preds_unscaled, targets_unscaled))"
      ]
    },
    {
      "cell_type": "code",
      "execution_count": 45,
      "metadata": {
        "colab": {
          "base_uri": "https://localhost:8080/"
        },
        "id": "J8eywbOC9C5z",
        "outputId": "b7dcf803-117b-4918-cc05-4f80700c3d3e"
      },
      "outputs": [
        {
          "name": "stdout",
          "output_type": "stream",
          "text": [
            "[15428.055 12818.441 15273.15  ...  9890.779 13120.121 11644.853] [14276.24316009 13074.98043944 19560.28325337 ...  8530.56551616\n",
            " 11308.01659423  8357.34849513]\n"
          ]
        }
      ],
      "source": [
        "print(preds_unscaled, targets_unscaled)"
      ]
    },
    {
      "cell_type": "code",
      "execution_count": 49,
      "metadata": {
        "colab": {
          "base_uri": "https://localhost:8080/"
        },
        "id": "Pq71VCFg9tVi",
        "outputId": "cc073361-3a9f-474f-eec2-0b9a9f32350e"
      },
      "outputs": [
        {
          "name": "stdout",
          "output_type": "stream",
          "text": [
            "1581.0571925676056\n",
            "1940.851340401257\n"
          ]
        }
      ],
      "source": [
        "print(np.mean(np.abs(preds_unscaled- targets_unscaled)))\n",
        "print(np.mean(np.abs( y_scaler.inverse_transform(model_lin.predict(X_val_t).reshape(-1, 1)).flatten() - targets_unscaled)))"
      ]
    },
    {
      "cell_type": "code",
      "execution_count": 53,
      "metadata": {
        "colab": {
          "base_uri": "https://localhost:8080/"
        },
        "id": "iKEQy_6J_42u",
        "outputId": "9cc28231-910f-4c1b-a55d-8156ed8dc197"
      },
      "outputs": [
        {
          "name": "stdout",
          "output_type": "stream",
          "text": [
            "89692.75605563018\n",
            "109633.29051340028\n"
          ]
        }
      ],
      "source": [
        "# Odpal najpierw komurkte 51 bo najpisales \n",
        "# zrob zmienna xyz_scaled\n",
        "print(np.mean(np.abs(preds_unscaled * X_val[:, 1]- targets_unscaled * X_val[:, 1])))\n",
        "print(np.mean(np.abs( y_scaler.inverse_transform(model_lin.predict(X_val_t).reshape(-1, 1)).flatten()* X_val[:, 1] - targets_unscaled* X_val[:, 1])))"
      ]
    }
  ],
  "metadata": {
    "colab": {
      "provenance": []
    },
    "kernelspec": {
      "display_name": "Python 3",
      "name": "python3"
    },
    "language_info": {
      "codemirror_mode": {
        "name": "ipython",
        "version": 3
      },
      "file_extension": ".py",
      "mimetype": "text/x-python",
      "name": "python",
      "nbconvert_exporter": "python",
      "pygments_lexer": "ipython3",
      "version": "3.12.2"
    }
  },
  "nbformat": 4,
  "nbformat_minor": 0
}
